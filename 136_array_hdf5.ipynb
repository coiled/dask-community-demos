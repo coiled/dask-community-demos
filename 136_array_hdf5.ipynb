{
 "cells": [
  {
   "cell_type": "code",
   "execution_count": null,
   "id": "b35bc246-a46c-4e08-b2a7-e901dce7a51e",
   "metadata": {},
   "outputs": [],
   "source": [
    "#https://github.com/coiled/dask-community/issues/136"
   ]
  },
  {
   "cell_type": "code",
   "execution_count": null,
   "id": "0218c5d2-1aaa-455e-9e98-63342dbed429",
   "metadata": {},
   "outputs": [],
   "source": [
    "import h5py\n",
    "import os\n",
    "import dask.array as da"
   ]
  },
  {
   "cell_type": "code",
   "execution_count": null,
   "id": "c47a0329-e45b-4099-bcfc-8f4db39d636d",
   "metadata": {},
   "outputs": [],
   "source": [
    "import os\n",
    "import h5py\n",
    "\n",
    "# create fake hdf5\n",
    "with h5py.File(\"mytestfile.hdf5\", \"w\") as f:\n",
    "    dset = f.create_dataset(\"mydataset\", (100,5), dtype='i')"
   ]
  },
  {
   "cell_type": "code",
   "execution_count": null,
   "id": "a7a180f3-a0fa-4571-9c0f-a68ffb26c5b3",
   "metadata": {},
   "outputs": [],
   "source": [
    "def stack_vars(x):\n",
    "    print(x)\n",
    "    dask_arrays = list()\n",
    "    with h5py.File('mytestfile.hdf5', 'r') as f:\n",
    "        dset = f['mydataset']\n",
    "        array = da.from_array(dset)\n",
    "        dask_arrays.append(array.T)\n",
    "\n",
    "    stack = da.stack(dask_arrays, axis=0)\n",
    "    return stack"
   ]
  },
  {
   "cell_type": "code",
   "execution_count": null,
   "id": "6da69377-8f29-4358-addf-b7aa35e2270d",
   "metadata": {},
   "outputs": [],
   "source": [
    "from dask.distributed.protocol.pickle import dumps, loads"
   ]
  },
  {
   "cell_type": "code",
   "execution_count": null,
   "id": "b5c08c24-75f8-4f2f-b22d-1223ce2feb84",
   "metadata": {},
   "outputs": [],
   "source": [
    "import distributed"
   ]
  },
  {
   "cell_type": "code",
   "execution_count": null,
   "id": "5882e388-83b7-4abe-b294-d8876753c0b7",
   "metadata": {},
   "outputs": [],
   "source": [
    "cluster = distributed.LocalCluster()\n",
    "client = distributed.Client(cluster)"
   ]
  },
  {
   "cell_type": "code",
   "execution_count": null,
   "id": "760c136e-5816-44c9-bb65-d9651a415516",
   "metadata": {},
   "outputs": [],
   "source": [
    "da.from_array(dset, chunks=5)"
   ]
  },
  {
   "cell_type": "code",
   "execution_count": null,
   "id": "7755d802-bab4-4737-9d7c-f21e11e4a8d1",
   "metadata": {},
   "outputs": [],
   "source": [
    "with h5py.File('mytestfile.hdf5', 'r') as f:\n",
    "    dset = f['mydataset']\n",
    "array = da.from_array(dset)"
   ]
  },
  {
   "cell_type": "code",
   "execution_count": null,
   "id": "eaae55ed-ee2f-47fd-a0aa-22dfc152d153",
   "metadata": {},
   "outputs": [],
   "source": [
    "def read_chunk(chunk):\n",
    "    with h5py.File(\"tmp.h5\") as f:\n",
    "        dset=f[\"x\"]\n",
    "        arr = dset[chunk]\n",
    "    return arr\n",
    "\n",
    "with h5py.File(\"tmp.h5\") as f:\n",
    "    dset=f[\"x\"]\n",
    "    chunks = list(dset.iter_chunks())\n",
    "\n",
    "futures = client.map(read_chunk, chunks)"
   ]
  },
  {
   "cell_type": "code",
   "execution_count": null,
   "id": "f61f9c2a-bd73-4958-9bd1-6e24716c0b05",
   "metadata": {},
   "outputs": [],
   "source": []
  },
  {
   "cell_type": "code",
   "execution_count": null,
   "id": "150aae20-d4fe-4e10-9563-c7fcb58908b1",
   "metadata": {},
   "outputs": [],
   "source": []
  },
  {
   "cell_type": "code",
   "execution_count": 2,
   "id": "7426bb97-bba9-4cb1-a552-7d98f1cd1228",
   "metadata": {},
   "outputs": [],
   "source": [
    "import os\n",
    "import h5py\n",
    "\n",
    "# create fake hdf5\n",
    "filenames = [f\"mytestfile_{x}.hdf5\" for x in range(0,10)]\n",
    "for filename in filenames:\n",
    "    with h5py.File(filename, \"w\") as f:\n",
    "        dset = f.create_dataset(\"mydataset\", (100,1000), dtype='i')"
   ]
  },
  {
   "cell_type": "code",
   "execution_count": 3,
   "id": "5563c80d-a1e1-4da4-b1f0-554e382ae7ff",
   "metadata": {},
   "outputs": [
    {
     "data": {
      "text/plain": [
       "array([[[0, 0, 0, ..., 0, 0, 0],\n",
       "        [0, 0, 0, ..., 0, 0, 0],\n",
       "        [0, 0, 0, ..., 0, 0, 0],\n",
       "        ...,\n",
       "        [0, 0, 0, ..., 0, 0, 0],\n",
       "        [0, 0, 0, ..., 0, 0, 0],\n",
       "        [0, 0, 0, ..., 0, 0, 0]],\n",
       "\n",
       "       [[0, 0, 0, ..., 0, 0, 0],\n",
       "        [0, 0, 0, ..., 0, 0, 0],\n",
       "        [0, 0, 0, ..., 0, 0, 0],\n",
       "        ...,\n",
       "        [0, 0, 0, ..., 0, 0, 0],\n",
       "        [0, 0, 0, ..., 0, 0, 0],\n",
       "        [0, 0, 0, ..., 0, 0, 0]],\n",
       "\n",
       "       [[0, 0, 0, ..., 0, 0, 0],\n",
       "        [0, 0, 0, ..., 0, 0, 0],\n",
       "        [0, 0, 0, ..., 0, 0, 0],\n",
       "        ...,\n",
       "        [0, 0, 0, ..., 0, 0, 0],\n",
       "        [0, 0, 0, ..., 0, 0, 0],\n",
       "        [0, 0, 0, ..., 0, 0, 0]],\n",
       "\n",
       "       ...,\n",
       "\n",
       "       [[0, 0, 0, ..., 0, 0, 0],\n",
       "        [0, 0, 0, ..., 0, 0, 0],\n",
       "        [0, 0, 0, ..., 0, 0, 0],\n",
       "        ...,\n",
       "        [0, 0, 0, ..., 0, 0, 0],\n",
       "        [0, 0, 0, ..., 0, 0, 0],\n",
       "        [0, 0, 0, ..., 0, 0, 0]],\n",
       "\n",
       "       [[0, 0, 0, ..., 0, 0, 0],\n",
       "        [0, 0, 0, ..., 0, 0, 0],\n",
       "        [0, 0, 0, ..., 0, 0, 0],\n",
       "        ...,\n",
       "        [0, 0, 0, ..., 0, 0, 0],\n",
       "        [0, 0, 0, ..., 0, 0, 0],\n",
       "        [0, 0, 0, ..., 0, 0, 0]],\n",
       "\n",
       "       [[0, 0, 0, ..., 0, 0, 0],\n",
       "        [0, 0, 0, ..., 0, 0, 0],\n",
       "        [0, 0, 0, ..., 0, 0, 0],\n",
       "        ...,\n",
       "        [0, 0, 0, ..., 0, 0, 0],\n",
       "        [0, 0, 0, ..., 0, 0, 0],\n",
       "        [0, 0, 0, ..., 0, 0, 0]]], dtype=int32)"
      ]
     },
     "execution_count": 3,
     "metadata": {},
     "output_type": "execute_result"
    }
   ],
   "source": [
    "import dask.array as da\n",
    "import distributed\n",
    "import h5py\n",
    "\n",
    "# cluster = distributed.LocalCluster()\n",
    "# client = distributed.Client(cluster)\n",
    "\n",
    "def transform(x):\n",
    "    return x[:, ::2].T\n",
    "\n",
    "filenames = [f\"mytestfile_{x}.hdf5\" for x in range(0,10)]\n",
    "dsets = [h5py.File(f, mode='r')['mydataset'] for f in filenames]\n",
    "arrays = [da.from_array(dset, chunks=5) for dset in dsets]\n",
    "new_arrays = [transform(array) for array in arrays]\n",
    "x = da.stack(arrays, axis=0)\n",
    "x.compute()"
   ]
  },
  {
   "cell_type": "code",
   "execution_count": null,
   "id": "a1bcfc34-e02e-4c4e-ae79-047c20721882",
   "metadata": {},
   "outputs": [],
   "source": []
  },
  {
   "cell_type": "code",
   "execution_count": null,
   "id": "91f9b3f9-f803-4511-a735-1fd8759dae8e",
   "metadata": {},
   "outputs": [],
   "source": [
    "import h5py\n",
    "import dask.array as da\n",
    "import distributed\n",
    "\n",
    "cluster = distributed.LocalCluster()\n",
    "client = distributed.Client(cluster)\n",
    "\n",
    "def stack_vars(file):\n",
    "    t_hdf5 = h5py.File(file, 'r')\n",
    "    t_base = t_hdf5['Base']\n",
    "    dask_arrays = list()\n",
    "    for key in snap_dict.items():\n",
    "        dset = t_base[key[1]]\n",
    "        array = da.from_array(dset)[::st_k,0:j_max,x_i]\n",
    "        dask_arrays.append(array.T)\n",
    "\n",
    "    stack = da.stack(dask_arrays, axis=0)\n",
    "\n",
    "    return stack\n",
    "\n",
    "dask_files = list()\n",
    "for f in files:\n",
    "    dask_files.append(stack_vars(f))\n",
    "    \n",
    "x_t = da.stack(dask_files, axis=0).rechunk('256MiB')\n",
    "x = x_t.compute()"
   ]
  }
 ],
 "metadata": {
  "kernelspec": {
   "display_name": "Python 3 (ipykernel)",
   "language": "python",
   "name": "python3"
  },
  "language_info": {
   "codemirror_mode": {
    "name": "ipython",
    "version": 3
   },
   "file_extension": ".py",
   "mimetype": "text/x-python",
   "name": "python",
   "nbconvert_exporter": "python",
   "pygments_lexer": "ipython3",
   "version": "3.9.7"
  }
 },
 "nbformat": 4,
 "nbformat_minor": 5
}
