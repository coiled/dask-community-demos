{
 "cells": [
  {
   "cell_type": "code",
   "execution_count": 1,
   "id": "1500e18c-c3c3-4708-8244-731141ed8193",
   "metadata": {},
   "outputs": [],
   "source": [
    "# Hi @davidhao3300, thanks for submitting this issue and for the clear example. I was able to reproduce your result, which will make this much easier to dig into. Indeed the last line returns a Future for each Pandas DataFrame in the Dask DataFrame, and can be converted to concrete values with `.result()`:\n",
    "# ```python\n",
    "# ddf.compute(scheduler=\"threads\")\n",
    "# Out[2]: \n",
    "# 0    <Future: finished, type: pandas.core.frame.Dat...\n",
    "# 1    <Future: finished, type: pandas.core.frame.Dat...\n",
    "# dtype: object\n",
    "# ddf.compute(scheduler=\"threads\")[0].result()\n",
    "# Out[3]: \n",
    "#    a\n",
    "# 0  1\n",
    "# ddf.compute(scheduler=\"threads\")[1].result()\n",
    "# Out[4]: \n",
    "#    a\n",
    "# 1  2\n",
    "# 2  3\n",
    "# ```"
   ]
  },
  {
   "cell_type": "code",
   "execution_count": 2,
   "id": "ea7b92ff-d31c-4eb3-a3b0-1954fad88126",
   "metadata": {},
   "outputs": [],
   "source": [
    "from distributed import Client, LocalCluster\n",
    "import pandas as pd\n",
    "import dask.dataframe as dd"
   ]
  },
  {
   "cell_type": "code",
   "execution_count": 3,
   "id": "51513f53-eb91-44ef-8d74-bebdd7a255f8",
   "metadata": {},
   "outputs": [
    {
     "name": "stderr",
     "output_type": "stream",
     "text": [
      "/Users/sarahj/mambaforge/envs/dask-mini-tutorial/lib/python3.9/site-packages/distributed/node.py:160: UserWarning: Port 8787 is already in use.\n",
      "Perhaps you already have a cluster running?\n",
      "Hosting the HTTP server on port 61270 instead\n",
      "  warnings.warn(\n"
     ]
    }
   ],
   "source": [
    "cluster = LocalCluster()"
   ]
  },
  {
   "cell_type": "code",
   "execution_count": 4,
   "id": "d963f9f9-e891-442e-8a08-a1ed718d5080",
   "metadata": {},
   "outputs": [],
   "source": [
    "client=Client(cluster)"
   ]
  },
  {
   "cell_type": "code",
   "execution_count": 5,
   "id": "3628f5c0-8aae-4b75-aa58-aa9847a05300",
   "metadata": {},
   "outputs": [
    {
     "data": {
      "text/html": [
       "<table>\n",
       "    <tr>\n",
       "        <th>Worker</th>\n",
       "        <th>Key count</th>\n",
       "        <th>Key list</th>\n",
       "    </tr>\n",
       "\n",
       "    \n",
       "    <tr>\n",
       "        <td>tcp://127.0.0.1:61284</td>\n",
       "        <td>0</td>\n",
       "        <td>\n",
       "            <details>\n",
       "            <summary style='display:list-item'>Expand</summary>\n",
       "            <table>\n",
       "            \n",
       "            </table>\n",
       "            </details>\n",
       "        </td>\n",
       "    </tr>\n",
       "    \n",
       "    <tr>\n",
       "        <td>tcp://127.0.0.1:61285</td>\n",
       "        <td>0</td>\n",
       "        <td>\n",
       "            <details>\n",
       "            <summary style='display:list-item'>Expand</summary>\n",
       "            <table>\n",
       "            \n",
       "            </table>\n",
       "            </details>\n",
       "        </td>\n",
       "    </tr>\n",
       "    \n",
       "    <tr>\n",
       "        <td>tcp://127.0.0.1:61290</td>\n",
       "        <td>0</td>\n",
       "        <td>\n",
       "            <details>\n",
       "            <summary style='display:list-item'>Expand</summary>\n",
       "            <table>\n",
       "            \n",
       "            </table>\n",
       "            </details>\n",
       "        </td>\n",
       "    </tr>\n",
       "    \n",
       "    <tr>\n",
       "        <td>tcp://127.0.0.1:61293</td>\n",
       "        <td>0</td>\n",
       "        <td>\n",
       "            <details>\n",
       "            <summary style='display:list-item'>Expand</summary>\n",
       "            <table>\n",
       "            \n",
       "            </table>\n",
       "            </details>\n",
       "        </td>\n",
       "    </tr>\n",
       "    \n",
       "</table>"
      ],
      "text/plain": [
       "{'tcp://127.0.0.1:61284': (),\n",
       " 'tcp://127.0.0.1:61285': (),\n",
       " 'tcp://127.0.0.1:61290': (),\n",
       " 'tcp://127.0.0.1:61293': ()}"
      ]
     },
     "execution_count": 5,
     "metadata": {},
     "output_type": "execute_result"
    }
   ],
   "source": [
    "client.has_what()"
   ]
  },
  {
   "cell_type": "code",
   "execution_count": 6,
   "id": "a895961b-ebc2-4f94-a9d0-c7829ab2f47e",
   "metadata": {},
   "outputs": [],
   "source": [
    "client.close()"
   ]
  },
  {
   "cell_type": "code",
   "execution_count": 7,
   "id": "423ae8e8-8961-4880-b63e-ffa6a60d4383",
   "metadata": {},
   "outputs": [
    {
     "name": "stderr",
     "output_type": "stream",
     "text": [
      "/Users/sarahj/mambaforge/envs/dask-mini-tutorial/lib/python3.9/site-packages/distributed/node.py:160: UserWarning: Port 8787 is already in use.\n",
      "Perhaps you already have a cluster running?\n",
      "Hosting the HTTP server on port 61357 instead\n",
      "  warnings.warn(\n"
     ]
    },
    {
     "name": "stdout",
     "output_type": "stream",
     "text": [
      "   a\n",
      "0  1\n",
      "1  2\n",
      "2  3\n",
      "0    <Future: finished, type: pandas.core.frame.Dat...\n",
      "1    <Future: finished, type: pandas.core.frame.Dat...\n",
      "dtype: object\n"
     ]
    }
   ],
   "source": [
    "from distributed import Client, LocalCluster\n",
    "import pandas as pd\n",
    "import dask.dataframe as dd\n",
    "\n",
    "cluster = LocalCluster()\n",
    "client=Client(cluster)\n",
    "\n",
    "df = pd.DataFrame({'a': [1,2,3]})\n",
    "\n",
    "ddf = dd.from_pandas(df, npartitions=3)\n",
    "\n",
    "ddf = client.persist(ddf)\n",
    "\n",
    "# Works, and returns a DF as expected\n",
    "print(ddf.compute())\n",
    "\n",
    "# Returns a pandas Series with a row per-partition with a future as the result\n",
    "print(ddf.compute(scheduler=\"threads\"))"
   ]
  },
  {
   "cell_type": "code",
   "execution_count": null,
   "id": "41a99cbb-2c43-4ea6-9183-f65756ad878c",
   "metadata": {},
   "outputs": [],
   "source": []
  }
 ],
 "metadata": {
  "kernelspec": {
   "display_name": "Python 3 (ipykernel)",
   "language": "python",
   "name": "python3"
  },
  "language_info": {
   "codemirror_mode": {
    "name": "ipython",
    "version": 3
   },
   "file_extension": ".py",
   "mimetype": "text/x-python",
   "name": "python",
   "nbconvert_exporter": "python",
   "pygments_lexer": "ipython3",
   "version": "3.9.7"
  }
 },
 "nbformat": 4,
 "nbformat_minor": 5
}
