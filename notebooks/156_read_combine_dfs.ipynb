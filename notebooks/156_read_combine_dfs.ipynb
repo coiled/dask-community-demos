{
 "cells": [
  {
   "cell_type": "code",
   "execution_count": null,
   "id": "b7d39d78-325b-4f7f-a4cf-b1312dbdc633",
   "metadata": {},
   "outputs": [],
   "source": [
    "# https://github.com/coiled/dask-community/issues/156\n",
    "\n",
    "import dask\n",
    "from dask import delayed\n",
    "import dask.dataframe as dd\n",
    "\n",
    "\n",
    "@delayed\n",
    "def get_bars(stock, start_time, end_time):\n",
    "    minutes = api.get_bars(stock, TimeFrame.Minute, start=start, end=end, \n",
    "        adjustment='raw').df\n",
    "    return minutes\n",
    "\n",
    "# create a list of delayed objects, one for each stock you need\n",
    "delayed_list = [get_bars(stock, start_time, end_time) for stock in stocks]\n",
    "# returns Dask dataframe for all stocks\n",
    "ddf = dd.from_delayed(delayed_list)"
   ]
  }
 ],
 "metadata": {
  "kernelspec": {
   "display_name": "Python 3 (ipykernel)",
   "language": "python",
   "name": "python3"
  },
  "language_info": {
   "codemirror_mode": {
    "name": "ipython",
    "version": 3
   },
   "file_extension": ".py",
   "mimetype": "text/x-python",
   "name": "python",
   "nbconvert_exporter": "python",
   "pygments_lexer": "ipython3",
   "version": "3.9.7"
  }
 },
 "nbformat": 4,
 "nbformat_minor": 5
}
