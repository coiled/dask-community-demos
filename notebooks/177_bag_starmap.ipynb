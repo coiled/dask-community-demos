{
 "cells": [
  {
   "cell_type": "markdown",
   "id": "bfa85602-89e1-4a03-9978-9e02415012cd",
   "metadata": {},
   "source": [
    "## [[Discourse] How do you pipe multiple arguments in a dask bag pipeline? #177](https://github.com/coiled/dask-community/issues/177)"
   ]
  },
  {
   "cell_type": "code",
   "execution_count": 1,
   "id": "212602db-f31c-489a-b82a-7dd567e45cd8",
   "metadata": {},
   "outputs": [],
   "source": [
    "import dask.bag as db"
   ]
  },
  {
   "cell_type": "code",
   "execution_count": 2,
   "id": "7677607e-e0f0-4a8e-aefd-c00b616849f9",
   "metadata": {},
   "outputs": [],
   "source": [
    "def download(x):\n",
    "    return x + \" data \"\n",
    "\n",
    "def process_data(x):\n",
    "    if x == \"test_none data \":\n",
    "        return None\n",
    "    else:\n",
    "        return x + \"processed data \"\n",
    "\n",
    "def save_for_url(x, y):\n",
    "    return (x, y + \"saved\")"
   ]
  },
  {
   "cell_type": "code",
   "execution_count": 3,
   "id": "ca31f65e-53bb-4d4b-ae6d-14f977a20697",
   "metadata": {},
   "outputs": [],
   "source": [
    "# from functools import wraps\n",
    "\n",
    "# def star(f):\n",
    "#     @wraps(f)\n",
    "#     def wrapper(*args, **kwargs):\n",
    "#         return f(*args[0], *args[1:], **kwargs)\n",
    "#     return wrapper"
   ]
  },
  {
   "cell_type": "code",
   "execution_count": 3,
   "id": "026e084f-8731-4840-88ac-952c155de7e0",
   "metadata": {},
   "outputs": [],
   "source": [
    "urls = ['test_none', 'dask.org', 'docs.dask.org', 'exampels.dask.org']"
   ]
  },
  {
   "cell_type": "code",
   "execution_count": null,
   "id": "1d1d0391-64dd-49e4-9a0a-713620afecae",
   "metadata": {},
   "outputs": [],
   "source": [
    "# TypeError: <lambda>() missing 1 required positional argument: 'data'\n",
    "\n",
    "# (db\n",
    "#  .from_sequence(urls)\n",
    "#  .map(lambda url: (url, download(url)))\n",
    "#  .map(lambda url, data: (url, process_data(data)))\n",
    "#  .filter(lambda url, result: result is not None)\n",
    "#  .map(lambda url, result: save_for_url(url, result))\n",
    "#  ).compute()"
   ]
  },
  {
   "cell_type": "code",
   "execution_count": null,
   "id": "6797e334-fe4b-484a-b7d1-2e0042b8fa9b",
   "metadata": {},
   "outputs": [],
   "source": [
    "# Using `Bag.starmap()`\n",
    "\n",
    "(db\n",
    " .from_sequence(urls)\n",
    " .map(lambda url: (url, download(url)))\n",
    " .starmap(lambda url, data: (url, process_data(data)))\n",
    " .filter(lambda x: x[1] is not None)\n",
    " .starmap(lambda url, result: save_for_url(url, result))\n",
    " ).compute()"
   ]
  },
  {
   "cell_type": "code",
   "execution_count": null,
   "id": "d4d3cec0-bee2-48e2-9f72-de95ac62c414",
   "metadata": {},
   "outputs": [],
   "source": [
    "# With star() -- works\n",
    "\n",
    "# (db\n",
    "#  .from_sequence(urls)\n",
    "#  .map(lambda url: (url, download(url)))\n",
    "#  .map(star(lambda url, data: (url, process_data(data))))\n",
    "#  .filter(star(lambda url, result: result is not None))\n",
    "#  .map(star(lambda url, result: save_for_url(url, result)))\n",
    "#  ).compute()"
   ]
  },
  {
   "cell_type": "code",
   "execution_count": 4,
   "id": "953e81c8-ffc9-40bb-8e7a-9d4ed8fa3ca9",
   "metadata": {},
   "outputs": [],
   "source": [
    "# Using `Bag.zip()`\n",
    "\n",
    "urls_bag = db.from_sequence(urls)"
   ]
  },
  {
   "cell_type": "code",
   "execution_count": 5,
   "id": "94985516-bb68-430d-a43c-4e6bff261aa0",
   "metadata": {},
   "outputs": [],
   "source": [
    "processed_urls_bag = (urls_bag\n",
    "                      .map(lambda url: download(url))\n",
    "                      .map(lambda data: process_data(data))\n",
    "                      .filter(lambda result: result is not None)\n",
    "                     )"
   ]
  },
  {
   "cell_type": "code",
   "execution_count": 6,
   "id": "4e66e9f6-740b-4cb2-9481-9e984b414d2e",
   "metadata": {},
   "outputs": [
    {
     "data": {
      "text/plain": [
       "['dask.org data processed data ',\n",
       " 'docs.dask.org data processed data ',\n",
       " 'exampels.dask.org data processed data ']"
      ]
     },
     "execution_count": 6,
     "metadata": {},
     "output_type": "execute_result"
    }
   ],
   "source": [
    "processed_urls_bag.compute()"
   ]
  },
  {
   "cell_type": "code",
   "execution_count": 7,
   "id": "35d1c98f-121d-4293-8cc1-e11c21db8a7a",
   "metadata": {},
   "outputs": [
    {
     "data": {
      "text/plain": [
       "['test_none', 'dask.org', 'docs.dask.org', 'exampels.dask.org']"
      ]
     },
     "execution_count": 7,
     "metadata": {},
     "output_type": "execute_result"
    }
   ],
   "source": [
    "urls_bag.compute()"
   ]
  },
  {
   "cell_type": "code",
   "execution_count": 26,
   "id": "def36f18-e215-477b-a597-0a2ba6a7ed9e",
   "metadata": {},
   "outputs": [
    {
     "data": {
      "text/plain": [
       "[('dask.org', 'dask.org data processed data saved'),\n",
       " ('docs.dask.org', 'docs.dask.org data processed data saved'),\n",
       " ('exampels.dask.org', 'exampels.dask.org data processed data saved')]"
      ]
     },
     "execution_count": 26,
     "metadata": {},
     "output_type": "execute_result"
    }
   ],
   "source": [
    "db.zip(urls_bag, processed_urls_bag).starmap(lambda url, result: save_for_url(url, result)).compute()"
   ]
  },
  {
   "cell_type": "code",
   "execution_count": 9,
   "id": "1d9dd9d6-e66e-48b2-a248-4df864c88dc9",
   "metadata": {},
   "outputs": [
    {
     "data": {
      "text/plain": [
       "[('test_none', 'dask.org data processed data '),\n",
       " ('dask.org', 'docs.dask.org data processed data '),\n",
       " ('docs.dask.org', 'exampels.dask.org data processed data ')]"
      ]
     },
     "execution_count": 9,
     "metadata": {},
     "output_type": "execute_result"
    }
   ],
   "source": [
    "list(zip(urls_bag.compute(), processed_urls_bag.compute()))"
   ]
  },
  {
   "cell_type": "code",
   "execution_count": 4,
   "id": "986ef0d4-9362-4901-a460-d96027bc37cb",
   "metadata": {},
   "outputs": [],
   "source": [
    "# Super-minimal reproducer\n",
    "\n",
    "l = [(\"a\", \"b\"), (\"c\", \"d\")]\n",
    "\n",
    "l_bag = db.from_sequence(l)\n",
    "\n",
    "# TypeError: <lambda>() missing 1 required positional argument: 'y'\n",
    "l_bag.map(lambda x, y: x + y).compute()\n",
    "\n",
    "# With start() -- works!\n",
    "l_bag.map(star(lambda x, y: x + y)).compute()"
   ]
  },
  {
   "cell_type": "code",
   "execution_count": 5,
   "id": "b1d9e91a-ec18-4740-aebf-9544bd48c912",
   "metadata": {},
   "outputs": [
    {
     "data": {
      "text/plain": [
       "['ab', 'cd']"
      ]
     },
     "execution_count": 5,
     "metadata": {},
     "output_type": "execute_result"
    }
   ],
   "source": [
    "l_bag.starmap(lambda x, y: x + y).compute()"
   ]
  },
  {
   "cell_type": "code",
   "execution_count": null,
   "id": "8e9141d2-c187-4f07-8a68-afbd8d9cc51c",
   "metadata": {},
   "outputs": [],
   "source": [
    "# create minimal example for zip/filter"
   ]
  },
  {
   "cell_type": "code",
   "execution_count": 5,
   "id": "d888ab52-2c30-4abc-887b-daf6fdbb2715",
   "metadata": {},
   "outputs": [],
   "source": [
    "import dask.bag as db\n",
    "\n",
    "l1 = ['a', 'b', 'c', 'd']\n",
    "l2 = ['e', 'f', 'g']\n",
    "\n",
    "l1_bag = db.from_sequence(l1)\n",
    "l2_bag = db.from_sequence(l2)\n",
    "\n",
    "list(zip(l1, l2)) # Output: [('a', 'e'), ('b', 'f'), ('c', 'g')]\n",
    "\n",
    "db.zip(l1_bag, l2_bag).compute() # AssertionError\n",
    "\n",
    "l3_bag = l1_bag.filter(lambda x: x == 'c' or x == 'd')\n",
    "l3_bag.compute()\n",
    "\n",
    "db.zip(l1_bag, l3_bag).compute() # Output: [('c', 'c'), ('d', 'd')]"
   ]
  },
  {
   "cell_type": "code",
   "execution_count": 25,
   "id": "379b84bf-8528-4e05-a2a9-c2762d48f198",
   "metadata": {},
   "outputs": [
    {
     "data": {
      "text/plain": [
       "['c', 'd']"
      ]
     },
     "execution_count": 25,
     "metadata": {},
     "output_type": "execute_result"
    }
   ],
   "source": [
    "l3_bag.compute()"
   ]
  },
  {
   "cell_type": "code",
   "execution_count": null,
   "id": "a1f05606-9a37-464c-aedf-45d4f0b550fc",
   "metadata": {},
   "outputs": [],
   "source": []
  }
 ],
 "metadata": {
  "kernelspec": {
   "display_name": "Python 3 (ipykernel)",
   "language": "python",
   "name": "python3"
  },
  "language_info": {
   "codemirror_mode": {
    "name": "ipython",
    "version": 3
   },
   "file_extension": ".py",
   "mimetype": "text/x-python",
   "name": "python",
   "nbconvert_exporter": "python",
   "pygments_lexer": "ipython3",
   "version": "3.9.9"
  }
 },
 "nbformat": 4,
 "nbformat_minor": 5
}
