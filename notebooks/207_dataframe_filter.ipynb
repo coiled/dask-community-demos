{
 "cells": [
  {
   "cell_type": "markdown",
   "id": "9e5c9461-50f3-4ee1-b39a-70ee9a75caf4",
   "metadata": {},
   "source": [
    "## [[Discourse] AttributeError: 'DataFrame' object has no attribute 'repartition' #207](https://github.com/coiled/dask-community/issues/207)"
   ]
  },
  {
   "cell_type": "markdown",
   "id": "77065333-e59f-485d-832a-4bbae64b6d8a",
   "metadata": {},
   "source": [
    "User is trying to do: read data --> filter --> convert some cols to tensors"
   ]
  },
  {
   "cell_type": "markdown",
   "id": "1987f70f-2465-43eb-bc83-da55e8034ecd",
   "metadata": {},
   "source": [
    "### Original with code with toy data"
   ]
  },
  {
   "cell_type": "code",
   "execution_count": 1,
   "id": "f0130d25-8cde-4912-b9f4-f6952ada4f23",
   "metadata": {},
   "outputs": [],
   "source": [
    "import dask\n",
    "# import torch\n",
    "\n",
    "import pandas as pd\n",
    "import dask.dataframe as dd"
   ]
  },
  {
   "cell_type": "code",
   "execution_count": 2,
   "id": "634aeced-60d9-4c59-9137-f3db12b9aae6",
   "metadata": {},
   "outputs": [
    {
     "data": {
      "text/html": [
       "<div>\n",
       "<style scoped>\n",
       "    .dataframe tbody tr th:only-of-type {\n",
       "        vertical-align: middle;\n",
       "    }\n",
       "\n",
       "    .dataframe tbody tr th {\n",
       "        vertical-align: top;\n",
       "    }\n",
       "\n",
       "    .dataframe thead th {\n",
       "        text-align: right;\n",
       "    }\n",
       "</style>\n",
       "<table border=\"1\" class=\"dataframe\">\n",
       "  <thead>\n",
       "    <tr style=\"text-align: right;\">\n",
       "      <th></th>\n",
       "      <th>userID</th>\n",
       "      <th>questionID</th>\n",
       "      <th>result</th>\n",
       "    </tr>\n",
       "  </thead>\n",
       "  <tbody>\n",
       "    <tr>\n",
       "      <th>0</th>\n",
       "      <td>1</td>\n",
       "      <td>a</td>\n",
       "      <td>99</td>\n",
       "    </tr>\n",
       "    <tr>\n",
       "      <th>1</th>\n",
       "      <td>1</td>\n",
       "      <td>b</td>\n",
       "      <td>100</td>\n",
       "    </tr>\n",
       "    <tr>\n",
       "      <th>2</th>\n",
       "      <td>2</td>\n",
       "      <td>b</td>\n",
       "      <td>98</td>\n",
       "    </tr>\n",
       "    <tr>\n",
       "      <th>3</th>\n",
       "      <td>3</td>\n",
       "      <td>c</td>\n",
       "      <td>97</td>\n",
       "    </tr>\n",
       "  </tbody>\n",
       "</table>\n",
       "</div>"
      ],
      "text/plain": [
       "  userID questionID result\n",
       "0      1          a     99\n",
       "1      1          b    100\n",
       "2      2          b     98\n",
       "3      3          c     97"
      ]
     },
     "execution_count": 2,
     "metadata": {},
     "output_type": "execute_result"
    }
   ],
   "source": [
    "df = pd.DataFrame({'userID': ['1', '1', '2', '3'], 'questionID': ['a', 'b', 'b', 'c'], 'result': ['99', '100', '98', '97']})\n",
    "df"
   ]
  },
  {
   "cell_type": "code",
   "execution_count": 3,
   "id": "7a002171-8c87-4ad4-869f-09874d9deb7d",
   "metadata": {},
   "outputs": [],
   "source": [
    "ddf = dd.from_pandas(df, npartitions=2)"
   ]
  },
  {
   "cell_type": "code",
   "execution_count": 5,
   "id": "4364beb1-af3d-4b37-8dd1-aabe9208e6d6",
   "metadata": {},
   "outputs": [],
   "source": [
    "MAX_LEN = 300\n",
    "users = df.userID.unique()\n",
    "paths = []\n",
    "labels = []"
   ]
  },
  {
   "cell_type": "code",
   "execution_count": 6,
   "id": "ae925aeb-e6ba-4f05-98f3-229a389a71af",
   "metadata": {},
   "outputs": [],
   "source": [
    "# @dask.delayed(nout=2)\n",
    "def get_paths(df, user):\n",
    "    temp = df.loc[df.userID == user]\n",
    "    npart = round(len(temp)/MAX_LEN)\n",
    "    if npart == 0:\n",
    "        return (temp.questionID.values, temp.result.values)\n",
    "    else:\n",
    "        parted_df = temp.repartition(npartitions=npart)\n",
    "        return (parted_df.partitions[0].questionID.values,\n",
    "                parted_df.partitions[0].result.values)"
   ]
  },
  {
   "cell_type": "code",
   "execution_count": 7,
   "id": "a7a4510b-7d32-47aa-bf56-7527566c9177",
   "metadata": {},
   "outputs": [],
   "source": [
    "# @dask.delayed\n",
    "def convert_to_tensor(x):\n",
    "    # return torch.tensor(x)\n",
    "    return x"
   ]
  },
  {
   "cell_type": "code",
   "execution_count": 8,
   "id": "aba81bf4-0ae2-428f-902b-cfb526828a42",
   "metadata": {},
   "outputs": [],
   "source": [
    "for user in users:\n",
    "    path, label = get_paths(df, user)\n",
    "    paths.append(convert_to_tensor(path))\n",
    "    labels.append(convert_to_tensor(label))"
   ]
  },
  {
   "cell_type": "code",
   "execution_count": null,
   "id": "f6b31e50-d63b-48cd-9360-c0bd59f8bc4c",
   "metadata": {},
   "outputs": [],
   "source": [
    "dask.compute(*paths)"
   ]
  },
  {
   "cell_type": "code",
   "execution_count": 9,
   "id": "f1a335d4-17b5-4fe6-aa35-5457d1fa6d23",
   "metadata": {},
   "outputs": [],
   "source": [
    "dask.compute(*labels)"
   ]
  },
  {
   "cell_type": "code",
   "execution_count": 9,
   "id": "c3457234-b334-4fd5-b4d0-6b5311398434",
   "metadata": {},
   "outputs": [
    {
     "data": {
      "text/plain": [
       "[array(['a', 'b'], dtype=object),\n",
       " array(['b'], dtype=object),\n",
       " array(['c'], dtype=object)]"
      ]
     },
     "execution_count": 9,
     "metadata": {},
     "output_type": "execute_result"
    }
   ],
   "source": [
    "paths"
   ]
  },
  {
   "cell_type": "code",
   "execution_count": 10,
   "id": "6c07321e-d8f5-4670-82bd-dde61f1718e5",
   "metadata": {},
   "outputs": [
    {
     "data": {
      "text/plain": [
       "[array(['99', '100'], dtype=object),\n",
       " array(['98'], dtype=object),\n",
       " array(['97'], dtype=object)]"
      ]
     },
     "execution_count": 10,
     "metadata": {},
     "output_type": "execute_result"
    }
   ],
   "source": [
    "labels"
   ]
  },
  {
   "cell_type": "markdown",
   "id": "e7c9569b-c350-4c4d-a7ed-d130c454c9f8",
   "metadata": {},
   "source": [
    "---"
   ]
  },
  {
   "cell_type": "markdown",
   "id": "751ce709-787b-45a9-8ccc-8f3ffcaeeda8",
   "metadata": {},
   "source": [
    "### User's updated code"
   ]
  },
  {
   "cell_type": "code",
   "execution_count": null,
   "id": "26856c0d-9690-4ab8-ab26-219dc22e876b",
   "metadata": {},
   "outputs": [],
   "source": [
    "trunc_df = pd.DataFrame()\n",
    "for user in tqdm(df.userID.unique()):\n",
    "    user_df = df.loc[df.userID == user].iloc[-MAX_LEN:]\n",
    "    trunc_df = pd.concat([trunc_df, user_df])"
   ]
  },
  {
   "cell_type": "code",
   "execution_count": null,
   "id": "083e01c3-58f5-4fb6-8379-9cbd2f8810f2",
   "metadata": {},
   "outputs": [],
   "source": [
    "@dask.delayed(nout=2)\n",
    "def get_paths(df, user):\n",
    "    temp = df.loc[df.userID == user]\n",
    "    return (temp.questionID.values,\n",
    "            temp.result.values)"
   ]
  },
  {
   "cell_type": "markdown",
   "id": "a799d5a7-b585-4244-97ec-a1ddf97d79eb",
   "metadata": {},
   "source": [
    "---"
   ]
  },
  {
   "cell_type": "markdown",
   "id": "dd9483e8-e875-4d80-bb85-06512b96addf",
   "metadata": {},
   "source": [
    "### Our implementation with groupby"
   ]
  },
  {
   "cell_type": "code",
   "execution_count": 28,
   "id": "6c565709-2f73-4bf7-8aff-ac0e61a33a18",
   "metadata": {},
   "outputs": [
    {
     "name": "stderr",
     "output_type": "stream",
     "text": [
      "/var/folders/n6/th0cntvx43x3mvr1f768tygm0000gn/T/ipykernel_63600/165589648.py:12: UserWarning: `meta` is not specified, inferred from partial data. Please provide `meta` if the result is unexpected.\n",
      "  Before: .apply(func)\n",
      "  After:  .apply(func, meta={'x': 'f8', 'y': 'f8'}) for dataframe result\n",
      "  or:     .apply(func, meta=('x', 'f8'))            for series result\n",
      "  ddf.groupby('userID').apply(lambda x: x[['questionID', 'result']].head(300)).compute()\n"
     ]
    },
    {
     "data": {
      "text/html": [
       "<div>\n",
       "<style scoped>\n",
       "    .dataframe tbody tr th:only-of-type {\n",
       "        vertical-align: middle;\n",
       "    }\n",
       "\n",
       "    .dataframe tbody tr th {\n",
       "        vertical-align: top;\n",
       "    }\n",
       "\n",
       "    .dataframe thead th {\n",
       "        text-align: right;\n",
       "    }\n",
       "</style>\n",
       "<table border=\"1\" class=\"dataframe\">\n",
       "  <thead>\n",
       "    <tr style=\"text-align: right;\">\n",
       "      <th></th>\n",
       "      <th></th>\n",
       "      <th>questionID</th>\n",
       "      <th>result</th>\n",
       "    </tr>\n",
       "    <tr>\n",
       "      <th>userID</th>\n",
       "      <th></th>\n",
       "      <th></th>\n",
       "      <th></th>\n",
       "    </tr>\n",
       "  </thead>\n",
       "  <tbody>\n",
       "    <tr>\n",
       "      <th rowspan=\"5\" valign=\"top\">1</th>\n",
       "      <th>0</th>\n",
       "      <td>0</td>\n",
       "      <td>1200</td>\n",
       "    </tr>\n",
       "    <tr>\n",
       "      <th>1</th>\n",
       "      <td>1</td>\n",
       "      <td>1201</td>\n",
       "    </tr>\n",
       "    <tr>\n",
       "      <th>2</th>\n",
       "      <td>2</td>\n",
       "      <td>1202</td>\n",
       "    </tr>\n",
       "    <tr>\n",
       "      <th>3</th>\n",
       "      <td>3</td>\n",
       "      <td>1203</td>\n",
       "    </tr>\n",
       "    <tr>\n",
       "      <th>4</th>\n",
       "      <td>4</td>\n",
       "      <td>1204</td>\n",
       "    </tr>\n",
       "    <tr>\n",
       "      <th>...</th>\n",
       "      <th>...</th>\n",
       "      <td>...</td>\n",
       "      <td>...</td>\n",
       "    </tr>\n",
       "    <tr>\n",
       "      <th rowspan=\"5\" valign=\"top\">3</th>\n",
       "      <th>1095</th>\n",
       "      <td>1095</td>\n",
       "      <td>2295</td>\n",
       "    </tr>\n",
       "    <tr>\n",
       "      <th>1096</th>\n",
       "      <td>1096</td>\n",
       "      <td>2296</td>\n",
       "    </tr>\n",
       "    <tr>\n",
       "      <th>1097</th>\n",
       "      <td>1097</td>\n",
       "      <td>2297</td>\n",
       "    </tr>\n",
       "    <tr>\n",
       "      <th>1098</th>\n",
       "      <td>1098</td>\n",
       "      <td>2298</td>\n",
       "    </tr>\n",
       "    <tr>\n",
       "      <th>1099</th>\n",
       "      <td>1099</td>\n",
       "      <td>2299</td>\n",
       "    </tr>\n",
       "  </tbody>\n",
       "</table>\n",
       "<p>900 rows × 2 columns</p>\n",
       "</div>"
      ],
      "text/plain": [
       "             questionID  result\n",
       "userID                         \n",
       "1      0              0    1200\n",
       "       1              1    1201\n",
       "       2              2    1202\n",
       "       3              3    1203\n",
       "       4              4    1204\n",
       "...                 ...     ...\n",
       "3      1095        1095    2295\n",
       "       1096        1096    2296\n",
       "       1097        1097    2297\n",
       "       1098        1098    2298\n",
       "       1099        1099    2299\n",
       "\n",
       "[900 rows x 2 columns]"
      ]
     },
     "execution_count": 28,
     "metadata": {},
     "output_type": "execute_result"
    }
   ],
   "source": [
    "import numpy as np\n",
    "import pandas as pd\n",
    "import dask.dataframe as dd\n",
    "\n",
    "df = pd.DataFrame({'userID': np.repeat(np.array([1,2,3]), 400),\n",
    "                   'questionID': np.arange(0, 1200),\n",
    "                   'result': np.arange(1200, 2400),\n",
    "                  })\n",
    "\n",
    "ddf = dd.from_pandas(df, npartitions=2)\n",
    "\n",
    "ddf.groupby('userID').apply(lambda x: x[['questionID', 'result']].head(300)).compute()"
   ]
  },
  {
   "cell_type": "code",
   "execution_count": null,
   "id": "8fb2c1d1-a323-404d-a910-7d1c040c82f1",
   "metadata": {},
   "outputs": [],
   "source": []
  },
  {
   "cell_type": "code",
   "execution_count": null,
   "id": "c934272c-51b5-4e9e-9ca9-934b95b8bfed",
   "metadata": {},
   "outputs": [],
   "source": []
  },
  {
   "cell_type": "code",
   "execution_count": null,
   "id": "a9b6dd85-773f-4927-836c-24aed4d988bd",
   "metadata": {},
   "outputs": [],
   "source": []
  }
 ],
 "metadata": {
  "kernelspec": {
   "display_name": "Python 3 (ipykernel)",
   "language": "python",
   "name": "python3"
  },
  "language_info": {
   "codemirror_mode": {
    "name": "ipython",
    "version": 3
   },
   "file_extension": ".py",
   "mimetype": "text/x-python",
   "name": "python",
   "nbconvert_exporter": "python",
   "pygments_lexer": "ipython3",
   "version": "3.9.9"
  }
 },
 "nbformat": 4,
 "nbformat_minor": 5
}
