{
 "cells": [
  {
   "cell_type": "markdown",
   "id": "9e5c9461-50f3-4ee1-b39a-70ee9a75caf4",
   "metadata": {},
   "source": [
    "## [[Discourse] AttributeError: 'DataFrame' object has no attribute 'repartition' #207](https://github.com/coiled/dask-community/issues/207)"
   ]
  },
  {
   "cell_type": "code",
   "execution_count": 9,
   "id": "f0130d25-8cde-4912-b9f4-f6952ada4f23",
   "metadata": {},
   "outputs": [],
   "source": [
    "import dask\n",
    "import torch\n",
    "\n",
    "import pandas as pd\n",
    "import dask.dataframe as dd"
   ]
  },
  {
   "cell_type": "code",
   "execution_count": 9,
   "id": "0f5b567e-dbaf-451c-b8ec-6a27bc37b4dd",
   "metadata": {},
   "outputs": [],
   "source": [
    "df = pd.DataFrame({'userID': ['1', '2', '3'], 'questionID': ['a', 'b', 'c'], 'result': ['99', '98', '97']})\n",
    "\n",
    "ddf = dd.from_pandas(df, npartitions=2)"
   ]
  },
  {
   "cell_type": "code",
   "execution_count": 9,
   "id": "4364beb1-af3d-4b37-8dd1-aabe9208e6d6",
   "metadata": {},
   "outputs": [],
   "source": [
    "MAX_LEN = 300\n",
    "users = ddf.userID.unique().compute()\n",
    "paths = []\n",
    "labels = []"
   ]
  },
  {
   "cell_type": "code",
   "execution_count": 9,
   "id": "ae925aeb-e6ba-4f05-98f3-229a389a71af",
   "metadata": {},
   "outputs": [],
   "source": [
    "@dask.delayed(nout=2)\n",
    "def get_paths(df, user):\n",
    "    temp = df.loc[df.userID == user]\n",
    "    npart = round(len(temp)/MAX_LEN)\n",
    "    if npart == 0:\n",
    "        return (temp.questionID.values, temp.result.values)\n",
    "    else:\n",
    "        parted_df = temp.repartition(npartitions=npart)\n",
    "        return (parted_df.partitions[0].questionID.values,\n",
    "                parted_df.partitions[0].result.values)"
   ]
  },
  {
   "cell_type": "code",
   "execution_count": 9,
   "id": "a7a4510b-7d32-47aa-bf56-7527566c9177",
   "metadata": {},
   "outputs": [],
   "source": [
    "@dask.delayed\n",
    "def convert_to_tensor(x):\n",
    "    return x"
   ]
  },
  {
   "cell_type": "code",
   "execution_count": 9,
   "id": "aba81bf4-0ae2-428f-902b-cfb526828a42",
   "metadata": {},
   "outputs": [],
   "source": [
    "for user in users:\n",
    "    path, label = get_paths(ddf, user)\n",
    "    paths.append(convert_to_tensor(path))\n",
    "    labels.append(convert_to_tensor(label))"
   ]
  },
  {
   "cell_type": "code",
   "execution_count": 9,
   "id": "f6b31e50-d63b-48cd-9360-c0bd59f8bc4c",
   "metadata": {},
   "outputs": [],
   "source": [
    "dask.compute(*paths)"
   ]
  },
  {
   "cell_type": "code",
   "execution_count": 9,
   "id": "f1a335d4-17b5-4fe6-aa35-5457d1fa6d23",
   "metadata": {},
   "outputs": [],
   "source": [
    "dask.compute(*labels)"
   ]
  },
  {
   "cell_type": "code",
   "execution_count": null,
   "id": "cb7f06fc-884f-46c1-a5d7-53e86b04a25a",
   "metadata": {},
   "outputs": [],
   "source": []
  }
 ],
 "metadata": {
  "kernelspec": {
   "display_name": "Python 3 (ipykernel)",
   "language": "python",
   "name": "python3"
  },
  "language_info": {
   "codemirror_mode": {
    "name": "ipython",
    "version": 3
   },
   "file_extension": ".py",
   "mimetype": "text/x-python",
   "name": "python",
   "nbconvert_exporter": "python",
   "pygments_lexer": "ipython3",
   "version": "3.9.9"
  }
 },
 "nbformat": 4,
 "nbformat_minor": 5
}
