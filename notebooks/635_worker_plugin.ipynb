{
 "cells": [
  {
   "cell_type": "code",
   "execution_count": 1,
   "id": "70e5aa8f-be07-4ac5-8fe6-adf911e7b753",
   "metadata": {},
   "outputs": [],
   "source": [
    "import dask\n",
    "from dask.distributed import Client, LocalCluster, get_worker\n",
    "from dask.distributed.diagnostics.plugin import WorkerPlugin\n",
    "import fsspec\n",
    "import logging"
   ]
  },
  {
   "cell_type": "code",
   "execution_count": 2,
   "id": "fce00d4f-c0be-4af6-a482-4dd3b11a9e80",
   "metadata": {},
   "outputs": [
    {
     "name": "stdout",
     "output_type": "stream",
     "text": [
      "()\n"
     ]
    }
   ],
   "source": [
    "def complex():\n",
    "    get_worker().log_event(\"complex\", {\"hard\": \"hard\", \"worker_id\": get_worker().id})\n",
    "    logging.info(get_worker().id)\n",
    "    return 'hard'\n",
    "\n",
    "\n",
    "class DaskWorkerHandler(WorkerPlugin):\n",
    "    \"\"\"Worker life-cycle handler.\"\"\"\n",
    "    def __init__(self):\n",
    "        self.worker_id = None\n",
    "\n",
    "    def setup(self, worker):\n",
    "        self.worker_id = worker.id\n",
    "\n",
    "    def teardown(self, worker):\n",
    "        logs = worker.logs\n",
    "        with fsspec.open(\"worker-logs.txt\", \"w\") as f:\n",
    "            f.write(\"\\n\".join([str(log) for log in logs]))\n",
    "\n",
    "\n",
    "if __name__ == '__main__':\n",
    "    dask.config.set({'logging.distributed': \"INFO\"})\n",
    "    \n",
    "    cluster = LocalCluster(n_workers=5)\n",
    "    client = Client(cluster)\n",
    "\n",
    "    shutdown_handler = DaskWorkerHandler()\n",
    "    client.register_worker_plugin(shutdown_handler)\n",
    "\n",
    "    future = client.submit(complex)\n",
    "    events = client.get_events('complex')\n",
    "    print(events)\n",
    "    result = future.result()\n",
    "    \n",
    "    client.close()\n",
    "    cluster.close()"
   ]
  },
  {
   "cell_type": "code",
   "execution_count": null,
   "id": "cb41cad0-80bf-4941-b071-621ae8c9e3ff",
   "metadata": {},
   "outputs": [],
   "source": []
  }
 ],
 "metadata": {
  "kernelspec": {
   "display_name": "Python 3 (ipykernel)",
   "language": "python",
   "name": "python3"
  },
  "language_info": {
   "codemirror_mode": {
    "name": "ipython",
    "version": 3
   },
   "file_extension": ".py",
   "mimetype": "text/x-python",
   "name": "python",
   "nbconvert_exporter": "python",
   "pygments_lexer": "ipython3",
   "version": "3.9.7"
  }
 },
 "nbformat": 4,
 "nbformat_minor": 5
}
