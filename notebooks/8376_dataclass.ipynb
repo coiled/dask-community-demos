{
 "cells": [
  {
   "cell_type": "code",
   "execution_count": 1,
   "id": "e4abd691-e1dc-46d4-b655-1d52a9fcedda",
   "metadata": {},
   "outputs": [
    {
     "data": {
      "text/plain": [
       "0"
      ]
     },
     "execution_count": 1,
     "metadata": {},
     "output_type": "execute_result"
    }
   ],
   "source": [
    "from dask import delayed\n",
    "from dataclasses import dataclass, field\n",
    "\n",
    "\n",
    "@dataclass(frozen=True)\n",
    "class A:\n",
    "    param: float = field(repr=False)\n",
    "\n",
    "    def get_param(self):\n",
    "        return self.param\n",
    "\n",
    "    def get_delayed_param(self, *args, **kwargs):\n",
    "        return delayed(self.get_param, pure=True)(*args, **kwargs)\n",
    "\n",
    "(A(1).get_delayed_param() - A(0).get_delayed_param()).compute()"
   ]
  },
  {
   "cell_type": "code",
   "execution_count": 2,
   "id": "a2101903-9f8e-4427-bdf4-c18dc2461712",
   "metadata": {},
   "outputs": [],
   "source": [
    "a_1 = A(1).get_delayed_param()"
   ]
  },
  {
   "cell_type": "code",
   "execution_count": 6,
   "id": "3fe0ea52-1ba8-4963-9452-1868eec6578f",
   "metadata": {},
   "outputs": [
    {
     "data": {
      "text/plain": [
       "'get_param-e6a24b910c608da7188b4835f8baeb67'"
      ]
     },
     "execution_count": 6,
     "metadata": {},
     "output_type": "execute_result"
    }
   ],
   "source": [
    "a_1.key"
   ]
  },
  {
   "cell_type": "code",
   "execution_count": 3,
   "id": "14bc2b1a-3453-44e6-8e71-4eed8475faa7",
   "metadata": {},
   "outputs": [],
   "source": [
    "a_0 = A(0).get_delayed_param()"
   ]
  },
  {
   "cell_type": "code",
   "execution_count": 7,
   "id": "a78071bb-2863-48de-803f-d0fba2ae7aa0",
   "metadata": {},
   "outputs": [
    {
     "data": {
      "text/plain": [
       "'get_param-e6a24b910c608da7188b4835f8baeb67'"
      ]
     },
     "execution_count": 7,
     "metadata": {},
     "output_type": "execute_result"
    }
   ],
   "source": [
    "a_0.key"
   ]
  },
  {
   "cell_type": "code",
   "execution_count": 8,
   "id": "c2b5a356-b574-4389-a2dc-8d72829e2b09",
   "metadata": {},
   "outputs": [
    {
     "data": {
      "text/plain": [
       "True"
      ]
     },
     "execution_count": 8,
     "metadata": {},
     "output_type": "execute_result"
    }
   ],
   "source": [
    "a_0.key == a_1.key"
   ]
  },
  {
   "cell_type": "code",
   "execution_count": 12,
   "id": "75e74740-0776-4372-b107-0bebcfb3619d",
   "metadata": {},
   "outputs": [],
   "source": [
    "from dask.base import _normalize_function"
   ]
  },
  {
   "cell_type": "code",
   "execution_count": 11,
   "id": "d7cc0a4d-075b-44c8-9bf8-9bb4ecbda22d",
   "metadata": {},
   "outputs": [
    {
     "data": {
      "text/plain": [
       "method"
      ]
     },
     "execution_count": 11,
     "metadata": {},
     "output_type": "execute_result"
    }
   ],
   "source": [
    "type(A(1).get_delayed_param)"
   ]
  },
  {
   "cell_type": "code",
   "execution_count": 13,
   "id": "0aeb62ec-7d07-464a-ab67-82054117681e",
   "metadata": {},
   "outputs": [
    {
     "data": {
      "text/plain": [
       "'<bound method A.get_delayed_param of A()>'"
      ]
     },
     "execution_count": 13,
     "metadata": {},
     "output_type": "execute_result"
    }
   ],
   "source": [
    "_normalize_function(A(1).get_delayed_param)"
   ]
  },
  {
   "cell_type": "code",
   "execution_count": 14,
   "id": "07db3ea9-f444-440f-a070-451228562a63",
   "metadata": {},
   "outputs": [
    {
     "data": {
      "text/plain": [
       "'<bound method A.get_delayed_param of A()>'"
      ]
     },
     "execution_count": 14,
     "metadata": {},
     "output_type": "execute_result"
    }
   ],
   "source": [
    "_normalize_function(A(0).get_delayed_param)"
   ]
  },
  {
   "cell_type": "code",
   "execution_count": 15,
   "id": "419acb71-3d68-4bc0-830c-f23b49dc0c26",
   "metadata": {},
   "outputs": [
    {
     "data": {
      "text/plain": [
       "1"
      ]
     },
     "execution_count": 15,
     "metadata": {},
     "output_type": "execute_result"
    }
   ],
   "source": [
    "class B:\n",
    "\n",
    "    def __init__(self, param):\n",
    "        self.param = param\n",
    "\n",
    "    def __repr__(self):\n",
    "        return 'B()'\n",
    "\n",
    "    def get_param(self):\n",
    "        return self.param\n",
    "\n",
    "    def get_delayed_param(self, *args, **kwargs):\n",
    "        return delayed(self.get_param, pure=True)(*args, **kwargs)\n",
    "\n",
    "(B(1).get_delayed_param() - B(0).get_delayed_param()).compute()"
   ]
  },
  {
   "cell_type": "code",
   "execution_count": 17,
   "id": "f9e7b954-65ff-4470-adce-b25443e4ba07",
   "metadata": {},
   "outputs": [
    {
     "data": {
      "text/plain": [
       "b'ccloudpickle.cloudpickle\\n_builtin_type\\np0\\n(VMethodType\\np1\\ntp2\\nRp3\\n(g0\\n(VLambdaType\\np4\\ntp5\\nRp6\\n(g0\\n(VCodeType\\np7\\ntp8\\nRp9\\n(I1\\nI0\\nI0\\nI3\\nI4\\nI79\\nc_codecs\\nencode\\np10\\n(Vt\\\\u0000|\\\\u0000j\\x01d\\x01d\\x02\\x8d\\x02|\\x01i\\\\u0000|\\x02\\xa4\\x01\\x8e\\x01S\\\\u0000\\np11\\nVlatin1\\np12\\ntp13\\nRp14\\n(NI01\\n(Vpure\\np15\\ntp16\\ntp17\\n(Vdelayed\\np18\\nVget_param\\np19\\ntp20\\n(Vself\\np21\\nVargs\\np22\\nVkwargs\\np23\\ntp24\\nV/var/folders/hf/2s7qjx7j5ndc5220_qxv8y800000gn/T/ipykernel_5947/378858399.py\\np25\\nVget_delayed_param\\np26\\nI12\\ng10\\n(V\\\\u0000\\x01\\np27\\ng12\\ntp28\\nRp29\\n(t(ttp30\\nRp31\\n(dp32\\nV__package__\\np33\\nNsV__name__\\np34\\nV__main__\\np35\\nsNNNtp36\\nRp37\\nccloudpickle.cloudpickle_fast\\n_function_setstate\\np38\\ng37\\n((dp39\\n(dp40\\ng34\\ng26\\nsV__qualname__\\np41\\nVB.get_delayed_param\\np42\\nsV__annotations__\\np43\\n(dp44\\nsV__kwdefaults__\\np45\\nNsV__defaults__\\np46\\nNsV__module__\\np47\\ng35\\nsV__doc__\\np48\\nNsV__closure__\\np49\\nNsV_cloudpickle_submodules\\np50\\n(lp51\\nsV__globals__\\np52\\n(dp53\\ng18\\nccytoolz.functoolz\\n_restore_curry\\np54\\n(ccytoolz.functoolz\\ncurry\\np55\\nVdask.delayed:delayed\\np56\\n(t(dp57\\nI01\\ntp58\\nRp59\\nsstp60\\n\\x86R0ccopy_reg\\n_reconstructor\\np61\\n(ccloudpickle.cloudpickle\\n_make_skeleton_class\\np62\\n(c__builtin__\\ntype\\np63\\nVB\\np64\\n(c__builtin__\\nobject\\np65\\ntp66\\n(dp67\\nV3673a22c5daf4a81953f7bebe963d444\\np68\\nNtp69\\nRp70\\nccloudpickle.cloudpickle_fast\\n_class_setstate\\np71\\ng70\\n((dp72\\ng47\\ng35\\nsV__init__\\np73\\ng6\\n(g9\\n(I2\\nI0\\nI0\\nI2\\nI2\\nI67\\ng10\\n(V|\\x01|\\\\u0000_\\\\u0000d\\\\u0000S\\\\u0000\\np74\\ng12\\ntp75\\nRp76\\n(Ntp77\\n(Vparam\\np78\\ntp79\\n(g21\\ng78\\ntp80\\ng25\\ng73\\nI3\\ng10\\n(V\\\\u0000\\x01\\np81\\ng12\\ntp82\\nRp83\\n(t(ttp84\\nRp85\\ng32\\nNNNtp86\\nRp87\\ng38\\ng87\\n((dp88\\n(dp89\\ng34\\ng73\\nsg41\\nVB.__init__\\np90\\nsg43\\n(dp91\\nsg45\\nNsg46\\nNsg47\\ng35\\nsg48\\nNsg49\\nNsg50\\n(lp92\\nsg52\\n(dp93\\nstp94\\n\\x86R0sV__repr__\\np95\\ng6\\n(g9\\n(I1\\nI0\\nI0\\nI1\\nI1\\nI67\\ng10\\n(Vd\\x01S\\\\u0000\\np96\\ng12\\ntp97\\nRp98\\n(NVB()\\np99\\ntp100\\n(t(g21\\ntp101\\ng25\\ng95\\nI6\\ng10\\n(V\\\\u0000\\x01\\np102\\ng12\\ntp103\\nRp104\\n(t(ttp105\\nRp106\\ng32\\nNNNtp107\\nRp108\\ng38\\ng108\\n((dp109\\n(dp110\\ng34\\ng95\\nsg41\\nVB.__repr__\\np111\\nsg43\\n(dp112\\nsg45\\nNsg46\\nNsg47\\ng35\\nsg48\\nNsg49\\nNsg50\\n(lp113\\nsg52\\n(dp114\\nstp115\\n\\x86R0sg19\\ng6\\n(g9\\n(I1\\nI0\\nI0\\nI1\\nI1\\nI67\\ng10\\n(V|\\\\u0000j\\\\u0000S\\\\u0000\\np116\\ng12\\ntp117\\nRp118\\ng77\\ng79\\ng101\\ng25\\ng19\\nI9\\ng10\\n(V\\\\u0000\\x01\\np119\\ng12\\ntp120\\nRp121\\n(t(ttp122\\nRp123\\ng32\\nNNNtp124\\nRp125\\ng38\\ng125\\n((dp126\\n(dp127\\ng34\\ng19\\nsg41\\nVB.get_param\\np128\\nsg43\\n(dp129\\nsg45\\nNsg46\\nNsg47\\ng35\\nsg48\\nNsg49\\nNsg50\\n(lp130\\nsg52\\n(dp131\\nstp132\\n\\x86R0sg26\\ng37\\nsg48\\nNs(dp133\\ntp134\\n\\x86R0g65\\nNtp135\\nRp136\\n(dp137\\ng78\\nI1\\nsbtp138\\nRp139\\n.'"
      ]
     },
     "execution_count": 17,
     "metadata": {},
     "output_type": "execute_result"
    }
   ],
   "source": [
    "_normalize_function(B(1).get_delayed_param)"
   ]
  },
  {
   "cell_type": "code",
   "execution_count": 18,
   "id": "37464276-35b0-4c8a-9b40-93d99e486588",
   "metadata": {},
   "outputs": [
    {
     "data": {
      "text/plain": [
       "False"
      ]
     },
     "execution_count": 18,
     "metadata": {},
     "output_type": "execute_result"
    }
   ],
   "source": [
    "_normalize_function(B(1).get_delayed_param) == _normalize_function(B(0).get_delayed_param)"
   ]
  },
  {
   "cell_type": "code",
   "execution_count": 20,
   "id": "537e51e6-494f-4eec-b689-09040f395bb9",
   "metadata": {},
   "outputs": [
    {
     "data": {
      "text/plain": [
       "method"
      ]
     },
     "execution_count": 20,
     "metadata": {},
     "output_type": "execute_result"
    }
   ],
   "source": [
    "type(B(0).get_delayed_param)"
   ]
  },
  {
   "cell_type": "code",
   "execution_count": 21,
   "id": "0dfc87fa-a070-417f-9e9a-645f1b097aba",
   "metadata": {},
   "outputs": [
    {
     "ename": "TypeError",
     "evalue": "cannot pickle '_DataclassParams' object: a class that defines __slots__ without defining __getstate__ cannot be pickled with protocol 0",
     "output_type": "error",
     "traceback": [
      "\u001b[0;31m---------------------------------------------------------------------------\u001b[0m",
      "\u001b[0;31mTypeError\u001b[0m                                 Traceback (most recent call last)",
      "\u001b[0;32m/var/folders/hf/2s7qjx7j5ndc5220_qxv8y800000gn/T/ipykernel_5947/2468441083.py\u001b[0m in \u001b[0;36m<module>\u001b[0;34m\u001b[0m\n\u001b[1;32m      1\u001b[0m \u001b[0;32mimport\u001b[0m \u001b[0mcloudpickle\u001b[0m\u001b[0;34m\u001b[0m\u001b[0;34m\u001b[0m\u001b[0m\n\u001b[0;32m----> 2\u001b[0;31m \u001b[0mcloudpickle\u001b[0m\u001b[0;34m.\u001b[0m\u001b[0mdumps\u001b[0m\u001b[0;34m(\u001b[0m\u001b[0mA\u001b[0m\u001b[0;34m(\u001b[0m\u001b[0;36m1\u001b[0m\u001b[0;34m)\u001b[0m\u001b[0;34m.\u001b[0m\u001b[0mget_delayed_param\u001b[0m\u001b[0;34m,\u001b[0m \u001b[0mprotocol\u001b[0m\u001b[0;34m=\u001b[0m\u001b[0;36m0\u001b[0m\u001b[0;34m)\u001b[0m\u001b[0;34m\u001b[0m\u001b[0;34m\u001b[0m\u001b[0m\n\u001b[0m",
      "\u001b[0;32m~/mambaforge/envs/dask-mini-tutorial/lib/python3.9/site-packages/cloudpickle/cloudpickle_fast.py\u001b[0m in \u001b[0;36mdumps\u001b[0;34m(obj, protocol, buffer_callback)\u001b[0m\n\u001b[1;32m     71\u001b[0m                 \u001b[0mfile\u001b[0m\u001b[0;34m,\u001b[0m \u001b[0mprotocol\u001b[0m\u001b[0;34m=\u001b[0m\u001b[0mprotocol\u001b[0m\u001b[0;34m,\u001b[0m \u001b[0mbuffer_callback\u001b[0m\u001b[0;34m=\u001b[0m\u001b[0mbuffer_callback\u001b[0m\u001b[0;34m\u001b[0m\u001b[0;34m\u001b[0m\u001b[0m\n\u001b[1;32m     72\u001b[0m             )\n\u001b[0;32m---> 73\u001b[0;31m             \u001b[0mcp\u001b[0m\u001b[0;34m.\u001b[0m\u001b[0mdump\u001b[0m\u001b[0;34m(\u001b[0m\u001b[0mobj\u001b[0m\u001b[0;34m)\u001b[0m\u001b[0;34m\u001b[0m\u001b[0;34m\u001b[0m\u001b[0m\n\u001b[0m\u001b[1;32m     74\u001b[0m             \u001b[0;32mreturn\u001b[0m \u001b[0mfile\u001b[0m\u001b[0;34m.\u001b[0m\u001b[0mgetvalue\u001b[0m\u001b[0;34m(\u001b[0m\u001b[0;34m)\u001b[0m\u001b[0;34m\u001b[0m\u001b[0;34m\u001b[0m\u001b[0m\n\u001b[1;32m     75\u001b[0m \u001b[0;34m\u001b[0m\u001b[0m\n",
      "\u001b[0;32m~/mambaforge/envs/dask-mini-tutorial/lib/python3.9/site-packages/cloudpickle/cloudpickle_fast.py\u001b[0m in \u001b[0;36mdump\u001b[0;34m(self, obj)\u001b[0m\n\u001b[1;32m    600\u001b[0m     \u001b[0;32mdef\u001b[0m \u001b[0mdump\u001b[0m\u001b[0;34m(\u001b[0m\u001b[0mself\u001b[0m\u001b[0;34m,\u001b[0m \u001b[0mobj\u001b[0m\u001b[0;34m)\u001b[0m\u001b[0;34m:\u001b[0m\u001b[0;34m\u001b[0m\u001b[0;34m\u001b[0m\u001b[0m\n\u001b[1;32m    601\u001b[0m         \u001b[0;32mtry\u001b[0m\u001b[0;34m:\u001b[0m\u001b[0;34m\u001b[0m\u001b[0;34m\u001b[0m\u001b[0m\n\u001b[0;32m--> 602\u001b[0;31m             \u001b[0;32mreturn\u001b[0m \u001b[0mPickler\u001b[0m\u001b[0;34m.\u001b[0m\u001b[0mdump\u001b[0m\u001b[0;34m(\u001b[0m\u001b[0mself\u001b[0m\u001b[0;34m,\u001b[0m \u001b[0mobj\u001b[0m\u001b[0;34m)\u001b[0m\u001b[0;34m\u001b[0m\u001b[0;34m\u001b[0m\u001b[0m\n\u001b[0m\u001b[1;32m    603\u001b[0m         \u001b[0;32mexcept\u001b[0m \u001b[0mRuntimeError\u001b[0m \u001b[0;32mas\u001b[0m \u001b[0me\u001b[0m\u001b[0;34m:\u001b[0m\u001b[0;34m\u001b[0m\u001b[0;34m\u001b[0m\u001b[0m\n\u001b[1;32m    604\u001b[0m             \u001b[0;32mif\u001b[0m \u001b[0;34m\"recursion\"\u001b[0m \u001b[0;32min\u001b[0m \u001b[0me\u001b[0m\u001b[0;34m.\u001b[0m\u001b[0margs\u001b[0m\u001b[0;34m[\u001b[0m\u001b[0;36m0\u001b[0m\u001b[0;34m]\u001b[0m\u001b[0;34m:\u001b[0m\u001b[0;34m\u001b[0m\u001b[0;34m\u001b[0m\u001b[0m\n",
      "\u001b[0;32m~/mambaforge/envs/dask-mini-tutorial/lib/python3.9/copyreg.py\u001b[0m in \u001b[0;36m_reduce_ex\u001b[0;34m(self, proto)\u001b[0m\n\u001b[1;32m     75\u001b[0m     \u001b[0;32mexcept\u001b[0m \u001b[0mAttributeError\u001b[0m\u001b[0;34m:\u001b[0m\u001b[0;34m\u001b[0m\u001b[0;34m\u001b[0m\u001b[0m\n\u001b[1;32m     76\u001b[0m         \u001b[0;32mif\u001b[0m \u001b[0mgetattr\u001b[0m\u001b[0;34m(\u001b[0m\u001b[0mself\u001b[0m\u001b[0;34m,\u001b[0m \u001b[0;34m\"__slots__\"\u001b[0m\u001b[0;34m,\u001b[0m \u001b[0;32mNone\u001b[0m\u001b[0;34m)\u001b[0m\u001b[0;34m:\u001b[0m\u001b[0;34m\u001b[0m\u001b[0;34m\u001b[0m\u001b[0m\n\u001b[0;32m---> 77\u001b[0;31m             raise TypeError(f\"cannot pickle {cls.__name__!r} object: \"\n\u001b[0m\u001b[1;32m     78\u001b[0m                             \u001b[0;34mf\"a class that defines __slots__ without \"\u001b[0m\u001b[0;34m\u001b[0m\u001b[0;34m\u001b[0m\u001b[0m\n\u001b[1;32m     79\u001b[0m                             \u001b[0;34mf\"defining __getstate__ cannot be pickled \"\u001b[0m\u001b[0;34m\u001b[0m\u001b[0;34m\u001b[0m\u001b[0m\n",
      "\u001b[0;31mTypeError\u001b[0m: cannot pickle '_DataclassParams' object: a class that defines __slots__ without defining __getstate__ cannot be pickled with protocol 0"
     ]
    }
   ],
   "source": [
    "import cloudpickle\n",
    "cloudpickle.dumps(A(1).get_delayed_param, protocol=0)"
   ]
  },
  {
   "cell_type": "code",
   "execution_count": 22,
   "id": "7bbbe2e2-e55d-4f8c-b521-a65d333b8aee",
   "metadata": {},
   "outputs": [
    {
     "data": {
      "text/plain": [
       "\u001b[0;31mSignature:\u001b[0m \u001b[0mcloudpickle\u001b[0m\u001b[0;34m.\u001b[0m\u001b[0mdumps\u001b[0m\u001b[0;34m(\u001b[0m\u001b[0mobj\u001b[0m\u001b[0;34m,\u001b[0m \u001b[0mprotocol\u001b[0m\u001b[0;34m=\u001b[0m\u001b[0;32mNone\u001b[0m\u001b[0;34m,\u001b[0m \u001b[0mbuffer_callback\u001b[0m\u001b[0;34m=\u001b[0m\u001b[0;32mNone\u001b[0m\u001b[0;34m)\u001b[0m\u001b[0;34m\u001b[0m\u001b[0;34m\u001b[0m\u001b[0m\n",
       "\u001b[0;31mDocstring:\u001b[0m\n",
       "Serialize obj as a string of bytes allocated in memory\n",
       "\n",
       "protocol defaults to cloudpickle.DEFAULT_PROTOCOL which is an alias to\n",
       "pickle.HIGHEST_PROTOCOL. This setting favors maximum communication\n",
       "speed between processes running the same Python version.\n",
       "\n",
       "Set protocol=pickle.DEFAULT_PROTOCOL instead if you need to ensure\n",
       "compatibility with older versions of Python.\n",
       "\u001b[0;31mFile:\u001b[0m      ~/mambaforge/envs/dask-mini-tutorial/lib/python3.9/site-packages/cloudpickle/cloudpickle_fast.py\n",
       "\u001b[0;31mType:\u001b[0m      function\n"
      ]
     },
     "metadata": {},
     "output_type": "display_data"
    }
   ],
   "source": [
    "cloudpickle.dumps?"
   ]
  },
  {
   "cell_type": "code",
   "execution_count": null,
   "id": "d7a4e607-0243-49b2-9236-65986bdda183",
   "metadata": {},
   "outputs": [],
   "source": []
  }
 ],
 "metadata": {
  "kernelspec": {
   "display_name": "Python 3 (ipykernel)",
   "language": "python",
   "name": "python3"
  },
  "language_info": {
   "codemirror_mode": {
    "name": "ipython",
    "version": 3
   },
   "file_extension": ".py",
   "mimetype": "text/x-python",
   "name": "python",
   "nbconvert_exporter": "python",
   "pygments_lexer": "ipython3",
   "version": "3.9.7"
  }
 },
 "nbformat": 4,
 "nbformat_minor": 5
}
