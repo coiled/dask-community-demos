{
 "cells": [
  {
   "cell_type": "code",
   "execution_count": 2,
   "id": "b50fef5b-d029-4451-914c-9f51c84bf114",
   "metadata": {
    "tags": []
   },
   "outputs": [
    {
     "name": "stderr",
     "output_type": "stream",
     "text": [
      "/Users/sarahj/mambaforge/envs/dask-2021-07/lib/python3.9/site-packages/dask/array/core.py:1520: FutureWarning: The `numpy.ndim` function is not implemented by Dask array. You may want to use the da.map_blocks function or something similar to silence this warning. Your code may stop working in a future release.\n",
      "  warnings.warn(\n",
      "/Users/sarahj/mambaforge/envs/dask-2021-07/lib/python3.9/site-packages/dask/array/core.py:1520: FutureWarning: The `numpy.copyto` function is not implemented by Dask array. You may want to use the da.map_blocks function or something similar to silence this warning. Your code may stop working in a future release.\n",
      "  warnings.warn(\n"
     ]
    },
    {
     "data": {
      "text/plain": [
       "array([[[0.5],\n",
       "        [0.5]]])"
      ]
     },
     "execution_count": 2,
     "metadata": {},
     "output_type": "execute_result"
    }
   ],
   "source": [
    "import dask.array as da\n",
    "\n",
    "a = da.from_array([[[0], [1]]])\n",
    "da.full(a.shape, da.mean(a)).compute()"
   ]
  },
  {
   "cell_type": "code",
   "execution_count": 6,
   "id": "4aa68e13-da34-4537-b09a-0df1797b176f",
   "metadata": {},
   "outputs": [
    {
     "name": "stderr",
     "output_type": "stream",
     "text": [
      "/Users/sarahj/mambaforge/envs/dask-2021-07/lib/python3.9/site-packages/dask/array/core.py:1525: FutureWarning: The `numpy.ndim` function is not implemented by Dask array. You may want to use the da.map_blocks function or something similar to silence this warning. Your code may stop working in a future release.\n",
      "  warnings.warn(\n",
      "/Users/sarahj/mambaforge/envs/dask-2021-07/lib/python3.9/site-packages/dask/array/core.py:1525: FutureWarning: The `numpy.copyto` function is not implemented by Dask array. You may want to use the da.map_blocks function or something similar to silence this warning. Your code may stop working in a future release.\n",
      "  warnings.warn(\n"
     ]
    },
    {
     "data": {
      "text/plain": [
       "array([[[0.5],\n",
       "        [0.5]]])"
      ]
     },
     "execution_count": 6,
     "metadata": {},
     "output_type": "execute_result"
    }
   ],
   "source": [
    "da.full(a.shape, da.mean(a), dtype=float).compute()"
   ]
  },
  {
   "cell_type": "code",
   "execution_count": 1,
   "id": "26e9070b-d4d9-4701-b0af-111d0847acff",
   "metadata": {},
   "outputs": [],
   "source": [
    "import dask"
   ]
  },
  {
   "cell_type": "code",
   "execution_count": 2,
   "id": "7e3fc785-58db-4465-b349-8fbf23b5d563",
   "metadata": {},
   "outputs": [
    {
     "data": {
      "text/plain": [
       "'2021.07.0'"
      ]
     },
     "execution_count": 2,
     "metadata": {},
     "output_type": "execute_result"
    }
   ],
   "source": [
    "dask.__version__"
   ]
  },
  {
   "cell_type": "code",
   "execution_count": 3,
   "id": "a89ffdd0-5fc9-46a6-9402-c43cffbc246a",
   "metadata": {},
   "outputs": [
    {
     "data": {
      "text/plain": [
       "dask.array.core.Array"
      ]
     },
     "execution_count": 3,
     "metadata": {},
     "output_type": "execute_result"
    }
   ],
   "source": [
    "type(da.mean(a))"
   ]
  },
  {
   "cell_type": "code",
   "execution_count": null,
   "id": "71280717-127d-43eb-b5e8-6bb1770a92c3",
   "metadata": {},
   "outputs": [],
   "source": []
  }
 ],
 "metadata": {
  "kernelspec": {
   "display_name": "Python 3 (ipykernel)",
   "language": "python",
   "name": "python3"
  },
  "language_info": {
   "codemirror_mode": {
    "name": "ipython",
    "version": 3
   },
   "file_extension": ".py",
   "mimetype": "text/x-python",
   "name": "python",
   "nbconvert_exporter": "python",
   "pygments_lexer": "ipython3",
   "version": "3.9.7"
  }
 },
 "nbformat": 4,
 "nbformat_minor": 5
}
