{
 "cells": [
  {
   "cell_type": "code",
   "execution_count": null,
   "id": "4f0ae825",
   "metadata": {},
   "outputs": [],
   "source": [
    "import pandas as pd"
   ]
  },
  {
   "cell_type": "code",
   "execution_count": null,
   "id": "52f9cdad",
   "metadata": {},
   "outputs": [],
   "source": [
    "my_dict = {\n",
    "  \"status\": \"success\",\n",
    "  \"data\": {\n",
    "    \"resultType\": \"matrix\",\n",
    "    \"result\": [\n",
    "      {\n",
    "        \"metric\": {\n",
    "          \"data0\": \"T\",\n",
    "          \"data1\": \"O\"\n",
    "        },\n",
    "        \"values\": [\n",
    "          [\n",
    "            90,\n",
    "            \"0\"\n",
    "          ],\n",
    "          [\n",
    "            80,\n",
    "            \"0\"\n",
    "          ]\n",
    "        ]\n",
    "      },\n",
    "      {\n",
    "        \"metric\": {\n",
    "          \"data0\": \"K\",\n",
    "          \"data1\": \"S\"\n",
    "        },\n",
    "        \"values\": [\n",
    "          [\n",
    "            70,\n",
    "            \"0\"\n",
    "          ],\n",
    "          [\n",
    "            60,\n",
    "            \"0\"\n",
    "          ]\n",
    "        ]\n",
    "      },\n",
    "      {\n",
    "        \"metric\": {\n",
    "          \"data2\": \"J\",\n",
    "          \"data3\": \"O\"\n",
    "        },\n",
    "        \"values\": [\n",
    "          [\n",
    "            50,\n",
    "            \"0\"\n",
    "          ],\n",
    "          [\n",
    "            40,\n",
    "            \"0\"\n",
    "          ]\n",
    "        ]\n",
    "      }\n",
    "    ]\n",
    "  }\n",
    "}"
   ]
  },
  {
   "cell_type": "code",
   "execution_count": null,
   "id": "06ca6ceb-fbb8-4b42-8153-247006b03bbc",
   "metadata": {},
   "outputs": [],
   "source": [
    "my_dict.keys()"
   ]
  },
  {
   "cell_type": "code",
   "execution_count": null,
   "id": "85a71eca-357e-4e5c-8957-fbae07f72381",
   "metadata": {},
   "outputs": [],
   "source": [
    "df1 = pd.DataFrame.from_records(my_dict['data']['result']).join(pd.DataFrame(df['metric'].to_list())).drop('metric', axis=1)"
   ]
  },
  {
   "cell_type": "code",
   "execution_count": null,
   "id": "e011cf2d-73c4-4d21-a40b-1cc7460db944",
   "metadata": {},
   "outputs": [],
   "source": [
    "%%time\n",
    "# pd.json_normalize way\n",
    "df1 = pd.json_normalize(my_dict['data']['result'])\n",
    "df1.columns = df1.columns.str.strip('metric.')"
   ]
  },
  {
   "cell_type": "code",
   "execution_count": null,
   "id": "09144ab2-7a7c-4349-b454-f0b839cf2131",
   "metadata": {},
   "outputs": [],
   "source": [
    "%%time\n",
    "# another way, but slower with this example\n",
    "df1 = pd.DataFrame.from_records(my_dict['data']['result']).join(pd.DataFrame(df['metric'].to_list())).drop('metric', axis=1)"
   ]
  },
  {
   "cell_type": "code",
   "execution_count": null,
   "id": "da216d76-9ec5-4fd7-91e8-6c4462fc9498",
   "metadata": {},
   "outputs": [],
   "source": [
    "df2 = df1.explode('values')\n",
    "df2[['time', 'value']] = df2['values'].to_list()\n",
    "df2 = df2.drop('values', axis=1)"
   ]
  },
  {
   "cell_type": "markdown",
   "id": "3dc020d9-ccd1-434a-a1c8-88a90db2bc6f",
   "metadata": {},
   "source": [
    "# Dask way"
   ]
  },
  {
   "cell_type": "code",
   "execution_count": null,
   "id": "cef85495-d734-457a-bfc2-f3e5e87bb590",
   "metadata": {},
   "outputs": [],
   "source": [
    "import json\n",
    "import dask.bag as db\n",
    "import dask.dataframe as dd"
   ]
  },
  {
   "cell_type": "code",
   "execution_count": null,
   "id": "7f1c73bc-b19a-46aa-9de5-7f12a3948ee6",
   "metadata": {},
   "outputs": [],
   "source": [
    "with open('/tmp/data.json', 'w') as f:\n",
    "    json.dump(my_dict, f)"
   ]
  },
  {
   "cell_type": "code",
   "execution_count": null,
   "id": "8034141c-4dcc-4aaf-a907-4715399eb06c",
   "metadata": {},
   "outputs": [],
   "source": [
    "my_bag = db.read_text(\n",
    "    '/tmp/data.json' # or can use data_*.json for multiple files\n",
    ").map(\n",
    "    json.loads # lazy loading\n",
    ").pluck('data').pluck('result').flatten() # only need the values from ['data']['result'] keys"
   ]
  },
  {
   "cell_type": "code",
   "execution_count": null,
   "id": "5f2cd9b8-efdf-4c7b-9452-4d985c53c265",
   "metadata": {},
   "outputs": [],
   "source": [
    "# if you don't provide the meta argument, then not all columns will populate\n",
    "# way to grab those dynamically?\n",
    "# what we really want here is a way to \n",
    "metrics = my_bag.pluck('metric').to_dataframe(meta={'data0': str, 'data1': str, 'data2': str, 'data3': str})"
   ]
  },
  {
   "cell_type": "code",
   "execution_count": null,
   "id": "0614e169-f260-409c-8913-e84b462c7a86",
   "metadata": {},
   "outputs": [],
   "source": [
    "lazy_df1 = my_bag.to_dataframe().join(metrics).drop('metric', axis=1)"
   ]
  },
  {
   "cell_type": "code",
   "execution_count": null,
   "id": "c734744a-f06d-4b29-aad5-d5452f0dd199",
   "metadata": {},
   "outputs": [],
   "source": [
    "df1 = lazy_df1.compute()"
   ]
  },
  {
   "cell_type": "code",
   "execution_count": null,
   "id": "045a67f2-3f0b-4b3b-8442-13f464f13f6b",
   "metadata": {},
   "outputs": [],
   "source": [
    "df1"
   ]
  },
  {
   "cell_type": "code",
   "execution_count": null,
   "id": "36ec29a8-e6b3-4182-96a1-18efc7624c3c",
   "metadata": {},
   "outputs": [],
   "source": [
    "lazy_df2 = lazy_df1.explode('values')\n",
    "values = lazy_df2.pop('values')"
   ]
  },
  {
   "cell_type": "code",
   "execution_count": null,
   "id": "b81d9291-cc57-4bab-9456-916f9732b891",
   "metadata": {},
   "outputs": [],
   "source": [
    "lazy_df2.join(values.to_bag().to_dataframe(meta={'time': int, 'value': str}))"
   ]
  },
  {
   "cell_type": "code",
   "execution_count": null,
   "id": "b16841dd-80d2-4d52-b5e5-9f5dc0257f8c",
   "metadata": {},
   "outputs": [],
   "source": []
  },
  {
   "cell_type": "code",
   "execution_count": null,
   "id": "ba1f305a-8437-43fc-b61f-739a2889e0cf",
   "metadata": {},
   "outputs": [],
   "source": []
  },
  {
   "cell_type": "code",
   "execution_count": null,
   "id": "0697d2eb-1193-4766-9aef-606d69d18507",
   "metadata": {},
   "outputs": [],
   "source": []
  },
  {
   "cell_type": "code",
   "execution_count": null,
   "id": "0f22e669-ee03-466c-a6ba-c2f776c6d4a1",
   "metadata": {},
   "outputs": [],
   "source": []
  },
  {
   "cell_type": "code",
   "execution_count": null,
   "id": "d8c2e768-f151-43ec-b3b9-38ba35effb00",
   "metadata": {},
   "outputs": [],
   "source": [
    "import numpy as np\n",
    "import pandas as pd\n",
    "import dask.dataframe as dd\n",
    "import dask.bag as db\n",
    "\n",
    "b = db.from_sequence([{'a': 1,   'b': 1},\n",
    "                     {'a': np.inf,   'b': np.nan},\n",
    "                    {'a': 1,   'b': np.nan}],\n",
    "                    npartitions=2)\n",
    "df = b.to_dataframe(meta={'a': float, 'b': \"Int64\"})\n",
    "df.compute()"
   ]
  },
  {
   "cell_type": "code",
   "execution_count": null,
   "id": "fd7ab14b-127a-440d-ad1d-6efbf4a7f9d9",
   "metadata": {},
   "outputs": [],
   "source": [
    "b.pluck?"
   ]
  },
  {
   "cell_type": "code",
   "execution_count": null,
   "id": "de357ceb-4753-4c1e-a864-254599612d5e",
   "metadata": {},
   "outputs": [],
   "source": [
    "db."
   ]
  },
  {
   "cell_type": "code",
   "execution_count": null,
   "id": "8750677f-a4c3-4e66-9cbd-bc64b62169e2",
   "metadata": {},
   "outputs": [],
   "source": [
    "b.__dict__"
   ]
  },
  {
   "cell_type": "code",
   "execution_count": null,
   "id": "c2943b1e-01ea-4522-8a2a-e762deb0ca26",
   "metadata": {},
   "outputs": [],
   "source": [
    "b.head()"
   ]
  },
  {
   "cell_type": "code",
   "execution_count": null,
   "id": "93be6a1f-a609-4fa7-93c3-0cfde709b626",
   "metadata": {},
   "outputs": [],
   "source": [
    "b.visualize()"
   ]
  },
  {
   "cell_type": "code",
   "execution_count": null,
   "id": "702bc8e2-baea-4835-a5d5-6e541ce59e6f",
   "metadata": {},
   "outputs": [],
   "source": [
    "b.npartitions"
   ]
  },
  {
   "cell_type": "code",
   "execution_count": null,
   "id": "54ddfd6f-2877-4bed-b12b-224181c030ed",
   "metadata": {},
   "outputs": [],
   "source": [
    "b.partition[0]"
   ]
  },
  {
   "cell_type": "code",
   "execution_count": null,
   "id": "34c96d42-931b-4eb0-9993-5e23866eecce",
   "metadata": {},
   "outputs": [],
   "source": [
    "import numpy as np\n",
    "import pandas as pd\n",
    "import dask.dataframe as dd\n",
    "import dask.bag as db\n",
    "\n",
    "b = db.from_sequence([{'a': 1,   'b': 1},\n",
    "                     {'a': np.inf,   'b': np.nan},\n",
    "                    {'a': 1,   'b': np.nan}],\n",
    "                    npartitions=2)\n",
    "df = b.to_dataframe(meta=object)\n",
    "df.compute()"
   ]
  },
  {
   "cell_type": "code",
   "execution_count": null,
   "id": "ea0c349d-4dc3-4706-bab1-176f9b1a9776",
   "metadata": {},
   "outputs": [],
   "source": [
    "b.__dict__"
   ]
  },
  {
   "cell_type": "code",
   "execution_count": null,
   "id": "834bba44-8c9b-4267-b128-75e3f1dfb55b",
   "metadata": {},
   "outputs": [],
   "source": [
    "b.name"
   ]
  },
  {
   "cell_type": "code",
   "execution_count": null,
   "id": "f3204d26-d8e3-40f9-8ca8-cc679333b299",
   "metadata": {},
   "outputs": [],
   "source": []
  },
  {
   "cell_type": "code",
   "execution_count": null,
   "id": "e557dc33-24cc-4de9-90c5-b274ea8a8547",
   "metadata": {},
   "outputs": [],
   "source": [
    "df = b.to_dataframe()"
   ]
  },
  {
   "cell_type": "code",
   "execution_count": null,
   "id": "1667cc37-3826-4a3f-8e09-351e60b41d73",
   "metadata": {},
   "outputs": [],
   "source": []
  },
  {
   "cell_type": "code",
   "execution_count": 2,
   "id": "63af676a-a57f-4bba-b326-f78fecf50b0e",
   "metadata": {},
   "outputs": [
    {
     "data": {
      "text/html": [
       "<div>\n",
       "<style scoped>\n",
       "    .dataframe tbody tr th:only-of-type {\n",
       "        vertical-align: middle;\n",
       "    }\n",
       "\n",
       "    .dataframe tbody tr th {\n",
       "        vertical-align: top;\n",
       "    }\n",
       "\n",
       "    .dataframe thead th {\n",
       "        text-align: right;\n",
       "    }\n",
       "</style>\n",
       "<table border=\"1\" class=\"dataframe\">\n",
       "  <thead>\n",
       "    <tr style=\"text-align: right;\">\n",
       "      <th></th>\n",
       "      <th>a</th>\n",
       "      <th>b</th>\n",
       "    </tr>\n",
       "  </thead>\n",
       "  <tbody>\n",
       "    <tr>\n",
       "      <th>0</th>\n",
       "      <td>1.0</td>\n",
       "      <td>1.0</td>\n",
       "    </tr>\n",
       "    <tr>\n",
       "      <th>1</th>\n",
       "      <td>inf</td>\n",
       "      <td>NaN</td>\n",
       "    </tr>\n",
       "    <tr>\n",
       "      <th>0</th>\n",
       "      <td>1</td>\n",
       "      <td>NaN</td>\n",
       "    </tr>\n",
       "  </tbody>\n",
       "</table>\n",
       "</div>"
      ],
      "text/plain": [
       "     a    b\n",
       "0  1.0  1.0\n",
       "1  inf  NaN\n",
       "0    1  NaN"
      ]
     },
     "execution_count": 2,
     "metadata": {},
     "output_type": "execute_result"
    }
   ],
   "source": [
    "import numpy as np\n",
    "import pandas as pd\n",
    "import dask.dataframe as dd\n",
    "import dask.bag as db\n",
    "\n",
    "b = db.from_sequence([{'a': 1,   'b': 1},\n",
    "                     {'a': np.inf,   'b': np.nan},\n",
    "                    {'a': 1,   'b': np.nan}],\n",
    "                    npartitions=2)\n",
    "ddf = b.to_dataframe()\n",
    "my_cols = list(ddf.columns)\n",
    "meta_dict = dict(zip(my_cols, [object]*len(my_cols)))\n",
    "ddf = b.to_dataframe(meta_dict)\n",
    "ddf.compute()"
   ]
  },
  {
   "cell_type": "code",
   "execution_count": null,
   "id": "2b24d47a-4631-4a34-b71a-da76ddef9dfe",
   "metadata": {},
   "outputs": [],
   "source": []
  }
 ],
 "metadata": {
  "kernelspec": {
   "display_name": "Python 3 (ipykernel)",
   "language": "python",
   "name": "python3"
  },
  "language_info": {
   "codemirror_mode": {
    "name": "ipython",
    "version": 3
   },
   "file_extension": ".py",
   "mimetype": "text/x-python",
   "name": "python",
   "nbconvert_exporter": "python",
   "pygments_lexer": "ipython3",
   "version": "3.9.7"
  }
 },
 "nbformat": 4,
 "nbformat_minor": 5
}
