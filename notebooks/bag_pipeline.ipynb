{
 "cells": [
  {
   "cell_type": "markdown",
   "id": "bfa85602-89e1-4a03-9978-9e02415012cd",
   "metadata": {},
   "source": [
    "## [[Discourse] How do you pipe multiple arguments in a dask bag pipeline? #177](https://github.com/coiled/dask-community/issues/177)"
   ]
  },
  {
   "cell_type": "code",
   "execution_count": null,
   "id": "212602db-f31c-489a-b82a-7dd567e45cd8",
   "metadata": {},
   "outputs": [],
   "source": [
    "import dask.bag as db"
   ]
  },
  {
   "cell_type": "code",
   "execution_count": null,
   "id": "7677607e-e0f0-4a8e-aefd-c00b616849f9",
   "metadata": {},
   "outputs": [],
   "source": [
    "def download(x):\n",
    "    return x + \" data \"\n",
    "\n",
    "def process_data(x):\n",
    "    if x == \"test_none data \":\n",
    "        return None\n",
    "    else:\n",
    "        return x + \"processed data \"\n",
    "\n",
    "def save_for_url(x, y):\n",
    "    return (x, y + \"saved\")"
   ]
  },
  {
   "cell_type": "code",
   "execution_count": null,
   "id": "ca31f65e-53bb-4d4b-ae6d-14f977a20697",
   "metadata": {},
   "outputs": [],
   "source": [
    "# from functools import wraps\n",
    "\n",
    "# def star(f):\n",
    "#     @wraps(f)\n",
    "#     def wrapper(*args, **kwargs):\n",
    "#         return f(*args[0], *args[1:], **kwargs)\n",
    "#     return wrapper"
   ]
  },
  {
   "cell_type": "code",
   "execution_count": null,
   "id": "026e084f-8731-4840-88ac-952c155de7e0",
   "metadata": {},
   "outputs": [],
   "source": [
    "urls = ['dask.org', 'docs.dask.org', 'exampels.dask.org', 'test_none']"
   ]
  },
  {
   "cell_type": "code",
   "execution_count": null,
   "id": "1d1d0391-64dd-49e4-9a0a-713620afecae",
   "metadata": {},
   "outputs": [],
   "source": [
    "# TypeError: <lambda>() missing 1 required positional argument: 'data'\n",
    "\n",
    "# (db\n",
    "#  .from_sequence(urls)\n",
    "#  .map(lambda url: (url, download(url)))\n",
    "#  .map(lambda url, data: (url, process_data(data)))\n",
    "#  .filter(lambda url, result: result is not None)\n",
    "#  .map(lambda url, result: save_for_url(url, result))\n",
    "#  ).compute()"
   ]
  },
  {
   "cell_type": "code",
   "execution_count": null,
   "id": "6797e334-fe4b-484a-b7d1-2e0042b8fa9b",
   "metadata": {},
   "outputs": [],
   "source": [
    "# Using `Bag.starmap()`\n",
    "\n",
    "(db\n",
    " .from_sequence(urls)\n",
    " .map(lambda url: (url, download(url)))\n",
    " .starmap(lambda url, data: (url, process_data(data)))\n",
    " .filter(lambda x: x[1] is not None)\n",
    " .starmap(lambda url, result: save_for_url(url, result))\n",
    " ).compute()"
   ]
  },
  {
   "cell_type": "code",
   "execution_count": null,
   "id": "d4d3cec0-bee2-48e2-9f72-de95ac62c414",
   "metadata": {},
   "outputs": [],
   "source": [
    "# With star() -- works\n",
    "\n",
    "# (db\n",
    "#  .from_sequence(urls)\n",
    "#  .map(lambda url: (url, download(url)))\n",
    "#  .map(star(lambda url, data: (url, process_data(data))))\n",
    "#  .filter(star(lambda url, result: result is not None))\n",
    "#  .map(star(lambda url, result: save_for_url(url, result)))\n",
    "#  ).compute()"
   ]
  },
  {
   "cell_type": "code",
   "execution_count": null,
   "id": "50fb5559-83d6-439e-aa8a-8fe86827cf4b",
   "metadata": {},
   "outputs": [],
   "source": [
    "# Using `Bag.zip()`\n",
    "\n",
    "urls_bag = db.from_sequence(urls)\n",
    "\n",
    "processed_urls_bag = (urls_bag\n",
    "                      .map(lambda url: download(url))\n",
    "                      .map(lambda data: process_data(data))\n",
    "                      .filter(lambda result: result is not None)\n",
    "                     )\n",
    "db.zip(urls_bag, processed_urls_bag).starmap(lambda url, result: save_for_url(url, result)).compute()"
   ]
  },
  {
   "cell_type": "code",
   "execution_count": null,
   "id": "cc6366f8-76b8-44f5-96e9-35bb99964062",
   "metadata": {},
   "outputs": [],
   "source": [
    "# Super-minimal reproducer\n",
    "\n",
    "l = [(\"a\", \"b\"), (\"c\", \"d\")]\n",
    "\n",
    "l_bag = db.from_sequence(l)\n",
    "\n",
    "# TypeError: <lambda>() missing 1 required positional argument: 'y'\n",
    "l_bag.map(lambda x, y: x + y).compute()\n",
    "\n",
    "# With start() -- works!\n",
    "l_bag.map(star(lambda x, y: x + y)).compute()\n",
    "\n",
    "l_bag.starmap(lambda x, y: x + y).compute()"
   ]
  },
  {
   "cell_type": "code",
   "execution_count": null,
   "id": "fac7ce10-92f8-44ad-aa8b-cc4a49508f23",
   "metadata": {},
   "outputs": [],
   "source": []
  }
 ],
 "metadata": {
  "kernelspec": {
   "display_name": "Python 3 (ipykernel)",
   "language": "python",
   "name": "python3"
  },
  "language_info": {
   "codemirror_mode": {
    "name": "ipython",
    "version": 3
   },
   "file_extension": ".py",
   "mimetype": "text/x-python",
   "name": "python",
   "nbconvert_exporter": "python",
   "pygments_lexer": "ipython3",
   "version": "3.9.9"
  }
 },
 "nbformat": 4,
 "nbformat_minor": 5
}
