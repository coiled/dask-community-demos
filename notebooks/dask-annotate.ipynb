{
 "cells": [
  {
   "cell_type": "code",
   "execution_count": null,
   "id": "6d63d222-e991-4b15-a8ac-ba5a68192eea",
   "metadata": {},
   "outputs": [],
   "source": [
    "import dask\n",
    "import dask.array as da\n",
    "from dask import delayed"
   ]
  },
  {
   "cell_type": "code",
   "execution_count": null,
   "id": "c465cb6e-53bd-4fb1-b036-5a2993aba114",
   "metadata": {},
   "outputs": [],
   "source": [
    "with dask.annotate(priority=100, retries=3):\n",
    "    A = da.ones((10000, 10000))"
   ]
  },
  {
   "cell_type": "code",
   "execution_count": null,
   "id": "6e4ea766-f0da-4314-b93a-57b70093cc92",
   "metadata": {},
   "outputs": [],
   "source": [
    "A.visualize()"
   ]
  },
  {
   "cell_type": "code",
   "execution_count": 5,
   "id": "00317812-cc82-44a8-8da8-66376ee0e557",
   "metadata": {
    "tags": []
   },
   "outputs": [
    {
     "name": "stderr",
     "output_type": "stream",
     "text": [
      "/Users/sarahj/mambaforge/envs/dask-mini-tutorial/lib/python3.9/site-packages/distributed/node.py:160: UserWarning: Port 8787 is already in use.\n",
      "Perhaps you already have a cluster running?\n",
      "Hosting the HTTP server on port 56689 instead\n",
      "  warnings.warn(\n"
     ]
    }
   ],
   "source": [
    "import distributed\n",
    "import dask\n",
    "from dask import delayed\n",
    "\n",
    "local_cluster = distributed.LocalCluster(n_workers=2)\n",
    "client = distributed.Client(local_cluster)\n",
    "\n",
    "workers = list(client.scheduler_info()['workers'].keys())\n",
    "\n",
    "with dask.annotate(workers=workers[0]):\n",
    "    delayed_sum = delayed(sum)([1, 2])\n",
    "    \n",
    "with dask.annotate(workers=workers[1]):\n",
    "    doubled = delayed_sum * 2\n",
    "\n",
    "# use persist so scheduler doesn't clean up\n",
    "# wrap in a distributed.wait to make sure they're there when we check the scheduler\n",
    "distributed.wait([doubled.persist(), delayed_sum.persist()])\n",
    "\n",
    "worker_restrictions = local_cluster.scheduler.worker_restrictions\n",
    "\n",
    "assert worker_restrictions[delayed_sum.key] == {workers[0]}\n",
    "assert worker_restrictions[doubled.key] == {workers[1]}"
   ]
  },
  {
   "cell_type": "code",
   "execution_count": 6,
   "id": "514d689b-adbd-4209-9d06-af28519a0a8e",
   "metadata": {},
   "outputs": [
    {
     "data": {
      "text/plain": [
       "<class 'distributed.scheduler._OptionalStateLegacyMapping'>({})"
      ]
     },
     "execution_count": 6,
     "metadata": {},
     "output_type": "execute_result"
    }
   ],
   "source": [
    "worker_restrictions"
   ]
  },
  {
   "cell_type": "code",
   "execution_count": null,
   "id": "2161a492-2123-48c3-a51a-7c78d45d9067",
   "metadata": {},
   "outputs": [],
   "source": [
    "import time.sleep\n",
    "\n",
    "@delayed\n",
    "def wait_sum():\n",
    "    sleep(5)\n",
    "    return sum([1, 2])"
   ]
  },
  {
   "cell_type": "code",
   "execution_count": 4,
   "id": "009b0994-6c36-4942-95d0-35e44a68c18a",
   "metadata": {},
   "outputs": [
    {
     "data": {
      "text/plain": [
       "\u001b[0;31mSignature:\u001b[0m \u001b[0mdistributed\u001b[0m\u001b[0;34m.\u001b[0m\u001b[0mwait\u001b[0m\u001b[0;34m(\u001b[0m\u001b[0mfs\u001b[0m\u001b[0;34m,\u001b[0m \u001b[0mtimeout\u001b[0m\u001b[0;34m=\u001b[0m\u001b[0;32mNone\u001b[0m\u001b[0;34m,\u001b[0m \u001b[0mreturn_when\u001b[0m\u001b[0;34m=\u001b[0m\u001b[0;34m'ALL_COMPLETED'\u001b[0m\u001b[0;34m)\u001b[0m\u001b[0;34m\u001b[0m\u001b[0;34m\u001b[0m\u001b[0m\n",
       "\u001b[0;31mDocstring:\u001b[0m\n",
       "Wait until all/any futures are finished\n",
       "\n",
       "Parameters\n",
       "----------\n",
       "fs : list of futures\n",
       "timeout : number, optional\n",
       "    Time in seconds after which to raise a ``dask.distributed.TimeoutError``\n",
       "return_when : str, optional\n",
       "    One of `ALL_COMPLETED` or `FIRST_COMPLETED`\n",
       "\n",
       "Returns\n",
       "-------\n",
       "Named tuple of completed, not completed\n",
       "\u001b[0;31mFile:\u001b[0m      ~/mambaforge/envs/dask-mini-tutorial/lib/python3.9/site-packages/distributed/client.py\n",
       "\u001b[0;31mType:\u001b[0m      function\n"
      ]
     },
     "metadata": {},
     "output_type": "display_data"
    }
   ],
   "source": [
    "distributed.wait?"
   ]
  },
  {
   "cell_type": "code",
   "execution_count": null,
   "id": "99b48ff9-6ff8-4efe-8088-601d6766ca8c",
   "metadata": {},
   "outputs": [],
   "source": []
  }
 ],
 "metadata": {
  "kernelspec": {
   "display_name": "Python 3 (ipykernel)",
   "language": "python",
   "name": "python3"
  },
  "language_info": {
   "codemirror_mode": {
    "name": "ipython",
    "version": 3
   },
   "file_extension": ".py",
   "mimetype": "text/x-python",
   "name": "python",
   "nbconvert_exporter": "python",
   "pygments_lexer": "ipython3",
   "version": "3.9.7"
  }
 },
 "nbformat": 4,
 "nbformat_minor": 5
}
