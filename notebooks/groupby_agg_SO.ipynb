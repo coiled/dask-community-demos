{
 "cells": [
  {
   "cell_type": "code",
   "execution_count": null,
   "id": "8658a395-ece8-4117-9213-fde7a98c1b77",
   "metadata": {},
   "outputs": [],
   "source": [
    "# from this SO post\n",
    "# https://stackoverflow.com/questions/70265639/best-way-to-perform-arbitrary-operations-on-groups-with-dask-dataframes"
   ]
  },
  {
   "cell_type": "code",
   "execution_count": null,
   "id": "fadbaa1c-1513-42d3-b476-cd3d06927044",
   "metadata": {},
   "outputs": [],
   "source": [
    "import dask\n",
    "import dask.dataframe as dd\n",
    "from dask import datasets\n",
    "from sklearn.linear_model import LinearRegression\n",
    "import pandas as pd\n",
    "from dask.distributed import Client, LocalCluster"
   ]
  },
  {
   "cell_type": "code",
   "execution_count": null,
   "id": "d43db15a-b20e-4f25-8e7c-d34fd7428a02",
   "metadata": {},
   "outputs": [],
   "source": [
    "cluster = LocalCluster()\n",
    "client = Client(cluster)"
   ]
  },
  {
   "cell_type": "code",
   "execution_count": null,
   "id": "00fe7cc6-bf3a-4235-94cd-27f9ce9b02b4",
   "metadata": {},
   "outputs": [],
   "source": [
    "def train(partition):\n",
    "    est = LinearRegression()\n",
    "    est.fit(partition[['x', 'id']].values, partition.y.values)\n",
    "    return est\n",
    "\n",
    "ddf = datasets.timeseries()\n",
    "ddf.groupby('name').apply(train, meta=object).persist()\n",
    "ddf['name'].nunique().compute()"
   ]
  },
  {
   "cell_type": "code",
   "execution_count": 26,
   "id": "7445365e-633a-4b35-9b6f-c63973a5ceab",
   "metadata": {},
   "outputs": [
    {
     "name": "stderr",
     "output_type": "stream",
     "text": [
      "/var/folders/hf/2s7qjx7j5ndc5220_qxv8y800000gn/T/ipykernel_41341/3609847097.py:8: UserWarning: `meta` is not specified, inferred from partial data. Please provide `meta` if the result is unexpected.\n",
      "  Before: .apply(func)\n",
      "  After:  .apply(func, meta={'x': 'f8', 'y': 'f8'}) for dataframe result\n",
      "  or:     .apply(func, meta=('x', 'f8'))            for series result\n",
      "  results_dask = ddf.groupby('group').apply(myfunc).compute().sort_index()\n"
     ]
    }
   ],
   "source": [
    "def myfunc(df):\n",
    "    return df['npeople'].sum()\n",
    "\n",
    "# df = pd.DataFrame({'group': [0,0,1,1,2,0,1,2], 'npeople': [1,2,3,4,5,6,7,8]})\n",
    "df = pd.DataFrame({'group': ['a', 'b', 'b', 'a'] * 2, 'npeople': [1,2,3,4,5,6,7,8]})\n",
    "ddf = dd.from_pandas(df, npartitions=2)\n",
    "\n",
    "results_dask = ddf.groupby('group').apply(myfunc).compute().sort_index()"
   ]
  },
  {
   "cell_type": "code",
   "execution_count": 27,
   "id": "5e455692-a861-4f39-a424-d9ec0fc1a356",
   "metadata": {},
   "outputs": [
    {
     "name": "stderr",
     "output_type": "stream",
     "text": [
      "distributed.client - ERROR - Failed to reconnect to scheduler after 30.00 seconds, closing client\n",
      "_GatheringFuture exception was never retrieved\n",
      "future: <_GatheringFuture finished exception=CancelledError()>\n",
      "asyncio.exceptions.CancelledError\n"
     ]
    }
   ],
   "source": [
    "client.shutdown()"
   ]
  },
  {
   "cell_type": "code",
   "execution_count": null,
   "id": "37c540c1-f67b-4206-8696-11cb5456848a",
   "metadata": {},
   "outputs": [],
   "source": []
  }
 ],
 "metadata": {
  "kernelspec": {
   "display_name": "Python 3 (ipykernel)",
   "language": "python",
   "name": "python3"
  },
  "language_info": {
   "codemirror_mode": {
    "name": "ipython",
    "version": 3
   },
   "file_extension": ".py",
   "mimetype": "text/x-python",
   "name": "python",
   "nbconvert_exporter": "python",
   "pygments_lexer": "ipython3",
   "version": "3.9.7"
  }
 },
 "nbformat": 4,
 "nbformat_minor": 5
}
