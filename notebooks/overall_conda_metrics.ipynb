{
 "cells": [
  {
   "cell_type": "code",
   "execution_count": 1,
   "id": "33b1f388-5673-4783-a911-0fd38b239803",
   "metadata": {},
   "outputs": [],
   "source": [
    "import pandas as pd\n",
    "import matplotlib as mlp\n",
    "import matplotlib.pyplot as plt\n",
    "\n",
    "from condastats.cli import overall"
   ]
  },
  {
   "cell_type": "code",
   "execution_count": 2,
   "id": "561e416f-2840-499f-8e6d-9c0a7dbf0e70",
   "metadata": {},
   "outputs": [],
   "source": [
    "data = overall(['dask', 'distributed', 'numpy', 'pandas', 'airflow', 'vaex', 'ray', 'pyspark', 'modin'] , start_month=\"2017-01\", end_month=\"2021-12\", monthly=True)"
   ]
  },
  {
   "cell_type": "code",
   "execution_count": 3,
   "id": "16085bf0-9536-475c-b3dd-06b260654889",
   "metadata": {
    "tags": []
   },
   "outputs": [],
   "source": [
    "data = data.reset_index(level=[0,1])"
   ]
  },
  {
   "cell_type": "code",
   "execution_count": 4,
   "id": "9a024c06-e401-45fd-bd81-77517e157038",
   "metadata": {},
   "outputs": [
    {
     "data": {
      "text/html": [
       "<div>\n",
       "<style scoped>\n",
       "    .dataframe tbody tr th:only-of-type {\n",
       "        vertical-align: middle;\n",
       "    }\n",
       "\n",
       "    .dataframe tbody tr th {\n",
       "        vertical-align: top;\n",
       "    }\n",
       "\n",
       "    .dataframe thead th {\n",
       "        text-align: right;\n",
       "    }\n",
       "</style>\n",
       "<table border=\"1\" class=\"dataframe\">\n",
       "  <thead>\n",
       "    <tr style=\"text-align: right;\">\n",
       "      <th></th>\n",
       "      <th>pkg_name</th>\n",
       "      <th>time</th>\n",
       "      <th>counts</th>\n",
       "    </tr>\n",
       "  </thead>\n",
       "  <tbody>\n",
       "    <tr>\n",
       "      <th>0</th>\n",
       "      <td>dask</td>\n",
       "      <td>2017-01</td>\n",
       "      <td>64062</td>\n",
       "    </tr>\n",
       "    <tr>\n",
       "      <th>1</th>\n",
       "      <td>dask</td>\n",
       "      <td>2017-02</td>\n",
       "      <td>79414</td>\n",
       "    </tr>\n",
       "    <tr>\n",
       "      <th>2</th>\n",
       "      <td>dask</td>\n",
       "      <td>2017-03</td>\n",
       "      <td>100800</td>\n",
       "    </tr>\n",
       "    <tr>\n",
       "      <th>3</th>\n",
       "      <td>dask</td>\n",
       "      <td>2017-04</td>\n",
       "      <td>130140</td>\n",
       "    </tr>\n",
       "    <tr>\n",
       "      <th>4</th>\n",
       "      <td>dask</td>\n",
       "      <td>2017-05</td>\n",
       "      <td>136451</td>\n",
       "    </tr>\n",
       "  </tbody>\n",
       "</table>\n",
       "</div>"
      ],
      "text/plain": [
       "  pkg_name     time  counts\n",
       "0     dask  2017-01   64062\n",
       "1     dask  2017-02   79414\n",
       "2     dask  2017-03  100800\n",
       "3     dask  2017-04  130140\n",
       "4     dask  2017-05  136451"
      ]
     },
     "execution_count": 4,
     "metadata": {},
     "output_type": "execute_result"
    }
   ],
   "source": [
    "data.head()"
   ]
  },
  {
   "cell_type": "code",
   "execution_count": 5,
   "id": "af2139cf-47b4-4376-ab1f-50325625d4ca",
   "metadata": {},
   "outputs": [],
   "source": [
    "data['time'] = pd.to_datetime(data['time'])"
   ]
  },
  {
   "cell_type": "code",
   "execution_count": 6,
   "id": "6424caf7-42fb-4a52-bb77-889a68c9447f",
   "metadata": {},
   "outputs": [],
   "source": [
    "table = pd.pivot_table(data, values='counts', index='time', columns='pkg_name')"
   ]
  },
  {
   "cell_type": "code",
   "execution_count": 7,
   "id": "c95fef5d-481e-4c30-94d4-75f1f6dc4a74",
   "metadata": {
    "tags": []
   },
   "outputs": [
    {
     "data": {
      "text/html": [
       "<div>\n",
       "<style scoped>\n",
       "    .dataframe tbody tr th:only-of-type {\n",
       "        vertical-align: middle;\n",
       "    }\n",
       "\n",
       "    .dataframe tbody tr th {\n",
       "        vertical-align: top;\n",
       "    }\n",
       "\n",
       "    .dataframe thead th {\n",
       "        text-align: right;\n",
       "    }\n",
       "</style>\n",
       "<table border=\"1\" class=\"dataframe\">\n",
       "  <thead>\n",
       "    <tr style=\"text-align: right;\">\n",
       "      <th>pkg_name</th>\n",
       "      <th>dask</th>\n",
       "      <th>distributed</th>\n",
       "      <th>numpy</th>\n",
       "      <th>pandas</th>\n",
       "      <th>pyspark</th>\n",
       "      <th>vaex</th>\n",
       "      <th>ray</th>\n",
       "      <th>airflow</th>\n",
       "      <th>modin</th>\n",
       "    </tr>\n",
       "    <tr>\n",
       "      <th>time</th>\n",
       "      <th></th>\n",
       "      <th></th>\n",
       "      <th></th>\n",
       "      <th></th>\n",
       "      <th></th>\n",
       "      <th></th>\n",
       "      <th></th>\n",
       "      <th></th>\n",
       "      <th></th>\n",
       "    </tr>\n",
       "  </thead>\n",
       "  <tbody>\n",
       "    <tr>\n",
       "      <th>2017-01-01</th>\n",
       "      <td>64062</td>\n",
       "      <td>7420</td>\n",
       "      <td>464875</td>\n",
       "      <td>253587</td>\n",
       "      <td>0</td>\n",
       "      <td>0</td>\n",
       "      <td>0</td>\n",
       "      <td>0</td>\n",
       "      <td>0</td>\n",
       "    </tr>\n",
       "    <tr>\n",
       "      <th>2017-02-01</th>\n",
       "      <td>79414</td>\n",
       "      <td>17265</td>\n",
       "      <td>574706</td>\n",
       "      <td>287581</td>\n",
       "      <td>0</td>\n",
       "      <td>0</td>\n",
       "      <td>0</td>\n",
       "      <td>0</td>\n",
       "      <td>0</td>\n",
       "    </tr>\n",
       "    <tr>\n",
       "      <th>2017-03-01</th>\n",
       "      <td>100800</td>\n",
       "      <td>13380</td>\n",
       "      <td>713001</td>\n",
       "      <td>305028</td>\n",
       "      <td>34</td>\n",
       "      <td>45</td>\n",
       "      <td>0</td>\n",
       "      <td>0</td>\n",
       "      <td>0</td>\n",
       "    </tr>\n",
       "    <tr>\n",
       "      <th>2017-04-01</th>\n",
       "      <td>130140</td>\n",
       "      <td>34864</td>\n",
       "      <td>639419</td>\n",
       "      <td>374032</td>\n",
       "      <td>371</td>\n",
       "      <td>302</td>\n",
       "      <td>5</td>\n",
       "      <td>0</td>\n",
       "      <td>0</td>\n",
       "    </tr>\n",
       "    <tr>\n",
       "      <th>2017-05-01</th>\n",
       "      <td>136451</td>\n",
       "      <td>41902</td>\n",
       "      <td>652633</td>\n",
       "      <td>421278</td>\n",
       "      <td>904</td>\n",
       "      <td>207</td>\n",
       "      <td>3</td>\n",
       "      <td>59</td>\n",
       "      <td>0</td>\n",
       "    </tr>\n",
       "  </tbody>\n",
       "</table>\n",
       "</div>"
      ],
      "text/plain": [
       "pkg_name      dask  distributed   numpy  pandas  pyspark  vaex  ray  airflow  \\\n",
       "time                                                                           \n",
       "2017-01-01   64062         7420  464875  253587        0     0    0        0   \n",
       "2017-02-01   79414        17265  574706  287581        0     0    0        0   \n",
       "2017-03-01  100800        13380  713001  305028       34    45    0        0   \n",
       "2017-04-01  130140        34864  639419  374032      371   302    5        0   \n",
       "2017-05-01  136451        41902  652633  421278      904   207    3       59   \n",
       "\n",
       "pkg_name    modin  \n",
       "time               \n",
       "2017-01-01      0  \n",
       "2017-02-01      0  \n",
       "2017-03-01      0  \n",
       "2017-04-01      0  \n",
       "2017-05-01      0  "
      ]
     },
     "execution_count": 7,
     "metadata": {},
     "output_type": "execute_result"
    }
   ],
   "source": [
    "table.head()"
   ]
  },
  {
   "cell_type": "code",
   "execution_count": 8,
   "id": "09d8ee00-b355-4262-bf13-db791ebff146",
   "metadata": {},
   "outputs": [
    {
     "data": {
      "text/plain": [
       "<matplotlib.legend.Legend at 0x12cf2f700>"
      ]
     },
     "execution_count": 8,
     "metadata": {},
     "output_type": "execute_result"
    },
    {
     "data": {
      "image/png": "[encoded data removed]",
      "text/plain": [
       "<Figure size 720x360 with 1 Axes>"
      ]
     },
     "metadata": {
      "needs_background": "light"
     },
     "output_type": "display_data"
    }
   ],
   "source": [
    "fig, ax = plt.subplots(figsize=(10, 5), constrained_layout=True)\n",
    "\n",
    "ax.plot(table.index, table['numpy'], label='numpy')\n",
    "ax.plot(table.index, table['pandas'], label='pandas')\n",
    "ax.plot(table.index, table['dask'], label='dask')\n",
    "ax.plot(table.index, table['airflow'], label='airflow')\n",
    "ax.plot(table.index, table['vaex'], label='vaex')\n",
    "ax.plot(table.index, table['ray'], label='ray')\n",
    "ax.plot(table.index, table['pyspark'], label='pyspark')\n",
    "ax.plot(table.index, table['modin'], label='modin')\n",
    "\n",
    "ax.set_xlabel('Download Date')\n",
    "ax.set_ylabel('Number of Downloads (in millions)')\n",
    "ax.set_title(\"Monthly conda Downloads 2017-2021\")\n",
    "ax.legend()"
   ]
  },
  {
   "cell_type": "code",
   "execution_count": 9,
   "id": "b691ddbd-493d-4c3d-b48a-3532b7879c15",
   "metadata": {},
   "outputs": [],
   "source": [
    "# fig.savefig(\"pydata-overall.png\", transparent=True)"
   ]
  },
  {
   "cell_type": "code",
   "execution_count": 10,
   "id": "3edbb698-804b-4edf-8a88-477fc2f7916e",
   "metadata": {},
   "outputs": [
    {
     "data": {
      "text/plain": [
       "<matplotlib.legend.Legend at 0x107deafa0>"
      ]
     },
     "execution_count": 10,
     "metadata": {},
     "output_type": "execute_result"
    },
    {
     "data": {
      "image/png": "[encoded data removed]",
      "text/plain": [
       "<Figure size 720x360 with 1 Axes>"
      ]
     },
     "metadata": {
      "needs_background": "light"
     },
     "output_type": "display_data"
    }
   ],
   "source": [
    "fig, ax = plt.subplots(figsize=(10, 5), constrained_layout=True)\n",
    "ax.plot(table.index, table['dask'], label='dask')\n",
    "ax.set_xlabel('Download Date')\n",
    "ax.set_ylabel('Number of Downloads (in millions)')\n",
    "ax.set_title(\"Monthly conda Downloads for Dask (2017-2021)\")\n",
    "ax.legend()"
   ]
  },
  {
   "cell_type": "code",
   "execution_count": 11,
   "id": "f4ba031c-9d3b-434e-b036-2876e3a8010f",
   "metadata": {},
   "outputs": [],
   "source": [
    "# fig.savefig(\"dask-overall.png\", transparent=True)"
   ]
  },
  {
   "cell_type": "markdown",
   "id": "a138577c-fff8-4073-a8eb-6f11eea7f4c2",
   "metadata": {},
   "source": [
    "### Year-wise changes in the past three months"
   ]
  },
  {
   "cell_type": "code",
   "execution_count": 12,
   "id": "db200c35-5a0a-4caa-a8a8-a411f2008495",
   "metadata": {},
   "outputs": [
    {
     "data": {
      "text/html": [
       "<div>\n",
       "<style scoped>\n",
       "    .dataframe tbody tr th:only-of-type {\n",
       "        vertical-align: middle;\n",
       "    }\n",
       "\n",
       "    .dataframe tbody tr th {\n",
       "        vertical-align: top;\n",
       "    }\n",
       "\n",
       "    .dataframe thead th {\n",
       "        text-align: right;\n",
       "    }\n",
       "</style>\n",
       "<table border=\"1\" class=\"dataframe\">\n",
       "  <thead>\n",
       "    <tr style=\"text-align: right;\">\n",
       "      <th>pkg_name</th>\n",
       "      <th>dask</th>\n",
       "      <th>distributed</th>\n",
       "      <th>numpy</th>\n",
       "      <th>pandas</th>\n",
       "      <th>pyspark</th>\n",
       "      <th>vaex</th>\n",
       "      <th>ray</th>\n",
       "      <th>airflow</th>\n",
       "      <th>modin</th>\n",
       "    </tr>\n",
       "    <tr>\n",
       "      <th>time</th>\n",
       "      <th></th>\n",
       "      <th></th>\n",
       "      <th></th>\n",
       "      <th></th>\n",
       "      <th></th>\n",
       "      <th></th>\n",
       "      <th></th>\n",
       "      <th></th>\n",
       "      <th></th>\n",
       "    </tr>\n",
       "  </thead>\n",
       "  <tbody>\n",
       "    <tr>\n",
       "      <th>2017-01-01</th>\n",
       "      <td>64062</td>\n",
       "      <td>7420</td>\n",
       "      <td>464875</td>\n",
       "      <td>253587</td>\n",
       "      <td>0</td>\n",
       "      <td>0</td>\n",
       "      <td>0</td>\n",
       "      <td>0</td>\n",
       "      <td>0</td>\n",
       "    </tr>\n",
       "    <tr>\n",
       "      <th>2017-02-01</th>\n",
       "      <td>79414</td>\n",
       "      <td>17265</td>\n",
       "      <td>574706</td>\n",
       "      <td>287581</td>\n",
       "      <td>0</td>\n",
       "      <td>0</td>\n",
       "      <td>0</td>\n",
       "      <td>0</td>\n",
       "      <td>0</td>\n",
       "    </tr>\n",
       "    <tr>\n",
       "      <th>2017-03-01</th>\n",
       "      <td>100800</td>\n",
       "      <td>13380</td>\n",
       "      <td>713001</td>\n",
       "      <td>305028</td>\n",
       "      <td>34</td>\n",
       "      <td>45</td>\n",
       "      <td>0</td>\n",
       "      <td>0</td>\n",
       "      <td>0</td>\n",
       "    </tr>\n",
       "    <tr>\n",
       "      <th>2017-04-01</th>\n",
       "      <td>130140</td>\n",
       "      <td>34864</td>\n",
       "      <td>639419</td>\n",
       "      <td>374032</td>\n",
       "      <td>371</td>\n",
       "      <td>302</td>\n",
       "      <td>5</td>\n",
       "      <td>0</td>\n",
       "      <td>0</td>\n",
       "    </tr>\n",
       "    <tr>\n",
       "      <th>2017-05-01</th>\n",
       "      <td>136451</td>\n",
       "      <td>41902</td>\n",
       "      <td>652633</td>\n",
       "      <td>421278</td>\n",
       "      <td>904</td>\n",
       "      <td>207</td>\n",
       "      <td>3</td>\n",
       "      <td>59</td>\n",
       "      <td>0</td>\n",
       "    </tr>\n",
       "  </tbody>\n",
       "</table>\n",
       "</div>"
      ],
      "text/plain": [
       "pkg_name      dask  distributed   numpy  pandas  pyspark  vaex  ray  airflow  \\\n",
       "time                                                                           \n",
       "2017-01-01   64062         7420  464875  253587        0     0    0        0   \n",
       "2017-02-01   79414        17265  574706  287581        0     0    0        0   \n",
       "2017-03-01  100800        13380  713001  305028       34    45    0        0   \n",
       "2017-04-01  130140        34864  639419  374032      371   302    5        0   \n",
       "2017-05-01  136451        41902  652633  421278      904   207    3       59   \n",
       "\n",
       "pkg_name    modin  \n",
       "time               \n",
       "2017-01-01      0  \n",
       "2017-02-01      0  \n",
       "2017-03-01      0  \n",
       "2017-04-01      0  \n",
       "2017-05-01      0  "
      ]
     },
     "execution_count": 12,
     "metadata": {},
     "output_type": "execute_result"
    }
   ],
   "source": [
    "table.head()"
   ]
  },
  {
   "cell_type": "code",
   "execution_count": 18,
   "id": "78385c66-09a5-4d29-a02c-15b3fa87e634",
   "metadata": {},
   "outputs": [],
   "source": [
    "def change_per_year(m):\n",
    "    # Parameter m: month as int. Example: for Jan, m= 1\n",
    "    month = table.iloc[lambda x: x.index.month == m]\n",
    "    month.index = month.index.year\n",
    "\n",
    "    df_roll = month.rolling(2).mean()\n",
    "    df_perc = (month.diff().div(df_roll) * 100).iloc[1:].round(2).astype(str) + '%'\n",
    "\n",
    "    final = month.astype(str) + \" (\" + df_perc + \")\"\n",
    "    final.drop(index=2017, inplace=True)\n",
    "    return final"
   ]
  },
  {
   "cell_type": "code",
   "execution_count": 19,
   "id": "9be780bd-6e21-4660-949c-34775375ea57",
   "metadata": {},
   "outputs": [],
   "source": [
    "change_per_year(12).to_html(\"files/conda-metrics-dec-2021.html\")"
   ]
  },
  {
   "cell_type": "code",
   "execution_count": 29,
   "id": "8f595f71-d2b7-42f6-b441-3aadf13470dc",
   "metadata": {},
   "outputs": [
    {
     "ename": "ImportError",
     "evalue": "Missing optional dependency 'tabulate'.  Use pip or conda to install tabulate.",
     "output_type": "error",
     "traceback": [
      "\u001b[0;31m---------------------------------------------------------------------------\u001b[0m",
      "\u001b[0;31mModuleNotFoundError\u001b[0m                       Traceback (most recent call last)",
      "File \u001b[0;32m~/mambaforge/envs/demos/lib/python3.8/site-packages/pandas/compat/_optional.py:126\u001b[0m, in \u001b[0;36mimport_optional_dependency\u001b[0;34m(name, extra, errors, min_version)\u001b[0m\n\u001b[1;32m    125\u001b[0m \u001b[38;5;28;01mtry\u001b[39;00m:\n\u001b[0;32m--> 126\u001b[0m     module \u001b[38;5;241m=\u001b[39m \u001b[43mimportlib\u001b[49m\u001b[38;5;241;43m.\u001b[39;49m\u001b[43mimport_module\u001b[49m\u001b[43m(\u001b[49m\u001b[43mname\u001b[49m\u001b[43m)\u001b[49m\n\u001b[1;32m    127\u001b[0m \u001b[38;5;28;01mexcept\u001b[39;00m \u001b[38;5;167;01mImportError\u001b[39;00m:\n",
      "File \u001b[0;32m~/mambaforge/envs/demos/lib/python3.8/importlib/__init__.py:127\u001b[0m, in \u001b[0;36mimport_module\u001b[0;34m(name, package)\u001b[0m\n\u001b[1;32m    126\u001b[0m         level \u001b[38;5;241m+\u001b[39m\u001b[38;5;241m=\u001b[39m \u001b[38;5;241m1\u001b[39m\n\u001b[0;32m--> 127\u001b[0m \u001b[38;5;28;01mreturn\u001b[39;00m \u001b[43m_bootstrap\u001b[49m\u001b[38;5;241;43m.\u001b[39;49m\u001b[43m_gcd_import\u001b[49m\u001b[43m(\u001b[49m\u001b[43mname\u001b[49m\u001b[43m[\u001b[49m\u001b[43mlevel\u001b[49m\u001b[43m:\u001b[49m\u001b[43m]\u001b[49m\u001b[43m,\u001b[49m\u001b[43m \u001b[49m\u001b[43mpackage\u001b[49m\u001b[43m,\u001b[49m\u001b[43m \u001b[49m\u001b[43mlevel\u001b[49m\u001b[43m)\u001b[49m\n",
      "File \u001b[0;32m<frozen importlib._bootstrap>:1014\u001b[0m, in \u001b[0;36m_gcd_import\u001b[0;34m(name, package, level)\u001b[0m\n",
      "File \u001b[0;32m<frozen importlib._bootstrap>:991\u001b[0m, in \u001b[0;36m_find_and_load\u001b[0;34m(name, import_)\u001b[0m\n",
      "File \u001b[0;32m<frozen importlib._bootstrap>:973\u001b[0m, in \u001b[0;36m_find_and_load_unlocked\u001b[0;34m(name, import_)\u001b[0m\n",
      "\u001b[0;31mModuleNotFoundError\u001b[0m: No module named 'tabulate'",
      "\nDuring handling of the above exception, another exception occurred:\n",
      "\u001b[0;31mImportError\u001b[0m                               Traceback (most recent call last)",
      "Input \u001b[0;32mIn [29]\u001b[0m, in \u001b[0;36m<module>\u001b[0;34m\u001b[0m\n\u001b[0;32m----> 1\u001b[0m \u001b[43mchange_per_year\u001b[49m\u001b[43m(\u001b[49m\u001b[38;5;241;43m10\u001b[39;49m\u001b[43m)\u001b[49m\u001b[38;5;241;43m.\u001b[39;49m\u001b[43mto_markdown\u001b[49m\u001b[43m(\u001b[49m\u001b[43m)\u001b[49m\n",
      "File \u001b[0;32m~/mambaforge/envs/demos/lib/python3.8/site-packages/pandas/core/frame.py:2729\u001b[0m, in \u001b[0;36mDataFrame.to_markdown\u001b[0;34m(self, buf, mode, index, storage_options, **kwargs)\u001b[0m\n\u001b[1;32m   2727\u001b[0m kwargs\u001b[38;5;241m.\u001b[39msetdefault(\u001b[38;5;124m\"\u001b[39m\u001b[38;5;124mtablefmt\u001b[39m\u001b[38;5;124m\"\u001b[39m, \u001b[38;5;124m\"\u001b[39m\u001b[38;5;124mpipe\u001b[39m\u001b[38;5;124m\"\u001b[39m)\n\u001b[1;32m   2728\u001b[0m kwargs\u001b[38;5;241m.\u001b[39msetdefault(\u001b[38;5;124m\"\u001b[39m\u001b[38;5;124mshowindex\u001b[39m\u001b[38;5;124m\"\u001b[39m, index)\n\u001b[0;32m-> 2729\u001b[0m tabulate \u001b[38;5;241m=\u001b[39m \u001b[43mimport_optional_dependency\u001b[49m\u001b[43m(\u001b[49m\u001b[38;5;124;43m\"\u001b[39;49m\u001b[38;5;124;43mtabulate\u001b[39;49m\u001b[38;5;124;43m\"\u001b[39;49m\u001b[43m)\u001b[49m\n\u001b[1;32m   2730\u001b[0m result \u001b[38;5;241m=\u001b[39m tabulate\u001b[38;5;241m.\u001b[39mtabulate(\u001b[38;5;28mself\u001b[39m, \u001b[38;5;241m*\u001b[39m\u001b[38;5;241m*\u001b[39mkwargs)\n\u001b[1;32m   2731\u001b[0m \u001b[38;5;28;01mif\u001b[39;00m buf \u001b[38;5;129;01mis\u001b[39;00m \u001b[38;5;28;01mNone\u001b[39;00m:\n",
      "File \u001b[0;32m~/mambaforge/envs/demos/lib/python3.8/site-packages/pandas/compat/_optional.py:129\u001b[0m, in \u001b[0;36mimport_optional_dependency\u001b[0;34m(name, extra, errors, min_version)\u001b[0m\n\u001b[1;32m    127\u001b[0m \u001b[38;5;28;01mexcept\u001b[39;00m \u001b[38;5;167;01mImportError\u001b[39;00m:\n\u001b[1;32m    128\u001b[0m     \u001b[38;5;28;01mif\u001b[39;00m errors \u001b[38;5;241m==\u001b[39m \u001b[38;5;124m\"\u001b[39m\u001b[38;5;124mraise\u001b[39m\u001b[38;5;124m\"\u001b[39m:\n\u001b[0;32m--> 129\u001b[0m         \u001b[38;5;28;01mraise\u001b[39;00m \u001b[38;5;167;01mImportError\u001b[39;00m(msg)\n\u001b[1;32m    130\u001b[0m     \u001b[38;5;28;01melse\u001b[39;00m:\n\u001b[1;32m    131\u001b[0m         \u001b[38;5;28;01mreturn\u001b[39;00m \u001b[38;5;28;01mNone\u001b[39;00m\n",
      "\u001b[0;31mImportError\u001b[0m: Missing optional dependency 'tabulate'.  Use pip or conda to install tabulate."
     ]
    }
   ],
   "source": [
    "change_per_year(10).to_markdown()"
   ]
  },
  {
   "cell_type": "code",
   "execution_count": 34,
   "id": "b7f3dce2-4222-4263-9476-bb26dca05147",
   "metadata": {},
   "outputs": [
    {
     "name": "stdout",
     "output_type": "stream",
     "text": [
      "Collecting package metadata (current_repodata.json): done\n",
      "Solving environment: done\n",
      "\n",
      "## Package Plan ##\n",
      "\n",
      "  environment location: /Users/pavithra/mambaforge/envs/demos\n",
      "\n",
      "  added / updated specs:\n",
      "    - tabulate\n",
      "\n",
      "\n",
      "The following packages will be downloaded:\n",
      "\n",
      "    package                    |            build\n",
      "    ---------------------------|-----------------\n",
      "    tabulate-0.8.9             |     pyhd8ed1ab_0          26 KB  conda-forge\n",
      "    ------------------------------------------------------------\n",
      "                                           Total:          26 KB\n",
      "\n",
      "The following NEW packages will be INSTALLED:\n",
      "\n",
      "  tabulate           conda-forge/noarch::tabulate-0.8.9-pyhd8ed1ab_0\n",
      "\n",
      "\n",
      "\n",
      "Downloading and Extracting Packages\n",
      "tabulate-0.8.9       | 26 KB     | ##################################### | 100% \n",
      "Preparing transaction: done\n",
      "Verifying transaction: done\n",
      "Executing transaction: done\n"
     ]
    }
   ],
   "source": [
    "!conda install tabulate --yes"
   ]
  },
  {
   "cell_type": "code",
   "execution_count": null,
   "id": "ed4af9c1-7ced-4438-9011-7ae58bba4b7e",
   "metadata": {},
   "outputs": [],
   "source": []
  }
 ],
 "metadata": {
  "kernelspec": {
   "display_name": "Python 3 (ipykernel)",
   "language": "python",
   "name": "python3"
  },
  "language_info": {
   "codemirror_mode": {
    "name": "ipython",
    "version": 3
   },
   "file_extension": ".py",
   "mimetype": "text/x-python",
   "name": "python",
   "nbconvert_exporter": "python",
   "pygments_lexer": "ipython3",
   "version": "3.8.12"
  }
 },
 "nbformat": 4,
 "nbformat_minor": 5
}
